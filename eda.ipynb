{
 "cells": [
  {
   "cell_type": "code",
   "execution_count": 3,
   "metadata": {},
   "outputs": [],
   "source": [
    "import pandas as pd\n",
    "import numpy as np\n",
    "import seaborn as sns\n",
    "import matplotlib.pyplot as plt"
   ]
  },
  {
   "cell_type": "code",
   "execution_count": 4,
   "metadata": {},
   "outputs": [],
   "source": [
    "data = pd.read_csv('train_Wc8LBpr.csv')"
   ]
  },
  {
   "cell_type": "code",
   "execution_count": 5,
   "metadata": {},
   "outputs": [
    {
     "data": {
      "text/html": [
       "<div>\n",
       "<style scoped>\n",
       "    .dataframe tbody tr th:only-of-type {\n",
       "        vertical-align: middle;\n",
       "    }\n",
       "\n",
       "    .dataframe tbody tr th {\n",
       "        vertical-align: top;\n",
       "    }\n",
       "\n",
       "    .dataframe thead th {\n",
       "        text-align: right;\n",
       "    }\n",
       "</style>\n",
       "<table border=\"1\" class=\"dataframe\">\n",
       "  <thead>\n",
       "    <tr style=\"text-align: right;\">\n",
       "      <th></th>\n",
       "      <th>Trip_ID</th>\n",
       "      <th>Trip_Distance</th>\n",
       "      <th>Type_of_Cab</th>\n",
       "      <th>Customer_Since_Months</th>\n",
       "      <th>Life_Style_Index</th>\n",
       "      <th>Confidence_Life_Style_Index</th>\n",
       "      <th>Destination_Type</th>\n",
       "      <th>Customer_Rating</th>\n",
       "      <th>Cancellation_Last_1Month</th>\n",
       "      <th>Var1</th>\n",
       "      <th>Var2</th>\n",
       "      <th>Var3</th>\n",
       "      <th>Gender</th>\n",
       "      <th>Surge_Pricing_Type</th>\n",
       "    </tr>\n",
       "  </thead>\n",
       "  <tbody>\n",
       "    <tr>\n",
       "      <th>0</th>\n",
       "      <td>T0005689460</td>\n",
       "      <td>6.77</td>\n",
       "      <td>B</td>\n",
       "      <td>1.0</td>\n",
       "      <td>2.42769</td>\n",
       "      <td>A</td>\n",
       "      <td>A</td>\n",
       "      <td>3.90500</td>\n",
       "      <td>0</td>\n",
       "      <td>40.0</td>\n",
       "      <td>46</td>\n",
       "      <td>60</td>\n",
       "      <td>Female</td>\n",
       "      <td>2</td>\n",
       "    </tr>\n",
       "    <tr>\n",
       "      <th>1</th>\n",
       "      <td>T0005689461</td>\n",
       "      <td>29.47</td>\n",
       "      <td>B</td>\n",
       "      <td>10.0</td>\n",
       "      <td>2.78245</td>\n",
       "      <td>B</td>\n",
       "      <td>A</td>\n",
       "      <td>3.45000</td>\n",
       "      <td>0</td>\n",
       "      <td>38.0</td>\n",
       "      <td>56</td>\n",
       "      <td>78</td>\n",
       "      <td>Male</td>\n",
       "      <td>2</td>\n",
       "    </tr>\n",
       "    <tr>\n",
       "      <th>2</th>\n",
       "      <td>T0005689464</td>\n",
       "      <td>41.58</td>\n",
       "      <td>NaN</td>\n",
       "      <td>10.0</td>\n",
       "      <td>NaN</td>\n",
       "      <td>NaN</td>\n",
       "      <td>E</td>\n",
       "      <td>3.50125</td>\n",
       "      <td>2</td>\n",
       "      <td>NaN</td>\n",
       "      <td>56</td>\n",
       "      <td>77</td>\n",
       "      <td>Male</td>\n",
       "      <td>2</td>\n",
       "    </tr>\n",
       "    <tr>\n",
       "      <th>3</th>\n",
       "      <td>T0005689465</td>\n",
       "      <td>61.56</td>\n",
       "      <td>C</td>\n",
       "      <td>10.0</td>\n",
       "      <td>NaN</td>\n",
       "      <td>NaN</td>\n",
       "      <td>A</td>\n",
       "      <td>3.45375</td>\n",
       "      <td>0</td>\n",
       "      <td>NaN</td>\n",
       "      <td>52</td>\n",
       "      <td>74</td>\n",
       "      <td>Male</td>\n",
       "      <td>3</td>\n",
       "    </tr>\n",
       "    <tr>\n",
       "      <th>4</th>\n",
       "      <td>T0005689467</td>\n",
       "      <td>54.95</td>\n",
       "      <td>C</td>\n",
       "      <td>10.0</td>\n",
       "      <td>3.03453</td>\n",
       "      <td>B</td>\n",
       "      <td>A</td>\n",
       "      <td>3.40250</td>\n",
       "      <td>4</td>\n",
       "      <td>51.0</td>\n",
       "      <td>49</td>\n",
       "      <td>102</td>\n",
       "      <td>Male</td>\n",
       "      <td>2</td>\n",
       "    </tr>\n",
       "    <tr>\n",
       "      <th>5</th>\n",
       "      <td>T0005689469</td>\n",
       "      <td>19.06</td>\n",
       "      <td>E</td>\n",
       "      <td>10.0</td>\n",
       "      <td>NaN</td>\n",
       "      <td>NaN</td>\n",
       "      <td>A</td>\n",
       "      <td>2.59750</td>\n",
       "      <td>1</td>\n",
       "      <td>72.0</td>\n",
       "      <td>63</td>\n",
       "      <td>91</td>\n",
       "      <td>Male</td>\n",
       "      <td>3</td>\n",
       "    </tr>\n",
       "    <tr>\n",
       "      <th>6</th>\n",
       "      <td>T0005689470</td>\n",
       "      <td>29.72</td>\n",
       "      <td>E</td>\n",
       "      <td>10.0</td>\n",
       "      <td>2.83958</td>\n",
       "      <td>C</td>\n",
       "      <td>B</td>\n",
       "      <td>2.97500</td>\n",
       "      <td>1</td>\n",
       "      <td>83.0</td>\n",
       "      <td>50</td>\n",
       "      <td>75</td>\n",
       "      <td>Male</td>\n",
       "      <td>2</td>\n",
       "    </tr>\n",
       "    <tr>\n",
       "      <th>7</th>\n",
       "      <td>T0005689472</td>\n",
       "      <td>18.44</td>\n",
       "      <td>B</td>\n",
       "      <td>2.0</td>\n",
       "      <td>2.81871</td>\n",
       "      <td>B</td>\n",
       "      <td>A</td>\n",
       "      <td>3.58250</td>\n",
       "      <td>0</td>\n",
       "      <td>103.0</td>\n",
       "      <td>46</td>\n",
       "      <td>63</td>\n",
       "      <td>Male</td>\n",
       "      <td>2</td>\n",
       "    </tr>\n",
       "    <tr>\n",
       "      <th>8</th>\n",
       "      <td>T0005689473</td>\n",
       "      <td>106.80</td>\n",
       "      <td>C</td>\n",
       "      <td>3.0</td>\n",
       "      <td>NaN</td>\n",
       "      <td>NaN</td>\n",
       "      <td>A</td>\n",
       "      <td>3.14625</td>\n",
       "      <td>0</td>\n",
       "      <td>NaN</td>\n",
       "      <td>58</td>\n",
       "      <td>92</td>\n",
       "      <td>Male</td>\n",
       "      <td>2</td>\n",
       "    </tr>\n",
       "    <tr>\n",
       "      <th>9</th>\n",
       "      <td>T0005689474</td>\n",
       "      <td>107.19</td>\n",
       "      <td>D</td>\n",
       "      <td>5.0</td>\n",
       "      <td>3.04467</td>\n",
       "      <td>B</td>\n",
       "      <td>A</td>\n",
       "      <td>2.44375</td>\n",
       "      <td>1</td>\n",
       "      <td>NaN</td>\n",
       "      <td>58</td>\n",
       "      <td>83</td>\n",
       "      <td>Male</td>\n",
       "      <td>3</td>\n",
       "    </tr>\n",
       "  </tbody>\n",
       "</table>\n",
       "</div>"
      ],
      "text/plain": [
       "       Trip_ID  Trip_Distance Type_of_Cab  Customer_Since_Months  \\\n",
       "0  T0005689460           6.77           B                    1.0   \n",
       "1  T0005689461          29.47           B                   10.0   \n",
       "2  T0005689464          41.58         NaN                   10.0   \n",
       "3  T0005689465          61.56           C                   10.0   \n",
       "4  T0005689467          54.95           C                   10.0   \n",
       "5  T0005689469          19.06           E                   10.0   \n",
       "6  T0005689470          29.72           E                   10.0   \n",
       "7  T0005689472          18.44           B                    2.0   \n",
       "8  T0005689473         106.80           C                    3.0   \n",
       "9  T0005689474         107.19           D                    5.0   \n",
       "\n",
       "   Life_Style_Index Confidence_Life_Style_Index Destination_Type  \\\n",
       "0           2.42769                           A                A   \n",
       "1           2.78245                           B                A   \n",
       "2               NaN                         NaN                E   \n",
       "3               NaN                         NaN                A   \n",
       "4           3.03453                           B                A   \n",
       "5               NaN                         NaN                A   \n",
       "6           2.83958                           C                B   \n",
       "7           2.81871                           B                A   \n",
       "8               NaN                         NaN                A   \n",
       "9           3.04467                           B                A   \n",
       "\n",
       "   Customer_Rating  Cancellation_Last_1Month   Var1  Var2  Var3  Gender  \\\n",
       "0          3.90500                         0   40.0    46    60  Female   \n",
       "1          3.45000                         0   38.0    56    78    Male   \n",
       "2          3.50125                         2    NaN    56    77    Male   \n",
       "3          3.45375                         0    NaN    52    74    Male   \n",
       "4          3.40250                         4   51.0    49   102    Male   \n",
       "5          2.59750                         1   72.0    63    91    Male   \n",
       "6          2.97500                         1   83.0    50    75    Male   \n",
       "7          3.58250                         0  103.0    46    63    Male   \n",
       "8          3.14625                         0    NaN    58    92    Male   \n",
       "9          2.44375                         1    NaN    58    83    Male   \n",
       "\n",
       "   Surge_Pricing_Type  \n",
       "0                   2  \n",
       "1                   2  \n",
       "2                   2  \n",
       "3                   3  \n",
       "4                   2  \n",
       "5                   3  \n",
       "6                   2  \n",
       "7                   2  \n",
       "8                   2  \n",
       "9                   3  "
      ]
     },
     "execution_count": 5,
     "metadata": {},
     "output_type": "execute_result"
    }
   ],
   "source": [
    "data[0:10]"
   ]
  },
  {
   "cell_type": "code",
   "execution_count": 6,
   "metadata": {},
   "outputs": [
    {
     "data": {
      "text/html": [
       "<div>\n",
       "<style scoped>\n",
       "    .dataframe tbody tr th:only-of-type {\n",
       "        vertical-align: middle;\n",
       "    }\n",
       "\n",
       "    .dataframe tbody tr th {\n",
       "        vertical-align: top;\n",
       "    }\n",
       "\n",
       "    .dataframe thead th {\n",
       "        text-align: right;\n",
       "    }\n",
       "</style>\n",
       "<table border=\"1\" class=\"dataframe\">\n",
       "  <thead>\n",
       "    <tr style=\"text-align: right;\">\n",
       "      <th></th>\n",
       "      <th>Trip_Distance</th>\n",
       "      <th>Customer_Since_Months</th>\n",
       "      <th>Life_Style_Index</th>\n",
       "      <th>Customer_Rating</th>\n",
       "      <th>Cancellation_Last_1Month</th>\n",
       "      <th>Var1</th>\n",
       "      <th>Var2</th>\n",
       "      <th>Var3</th>\n",
       "      <th>Surge_Pricing_Type</th>\n",
       "    </tr>\n",
       "  </thead>\n",
       "  <tbody>\n",
       "    <tr>\n",
       "      <th>count</th>\n",
       "      <td>131662.000000</td>\n",
       "      <td>125742.000000</td>\n",
       "      <td>111469.000000</td>\n",
       "      <td>131662.000000</td>\n",
       "      <td>131662.000000</td>\n",
       "      <td>60632.000000</td>\n",
       "      <td>131662.000000</td>\n",
       "      <td>131662.000000</td>\n",
       "      <td>131662.000000</td>\n",
       "    </tr>\n",
       "    <tr>\n",
       "      <th>mean</th>\n",
       "      <td>44.200909</td>\n",
       "      <td>6.016661</td>\n",
       "      <td>2.802064</td>\n",
       "      <td>2.849458</td>\n",
       "      <td>0.782838</td>\n",
       "      <td>64.202698</td>\n",
       "      <td>51.202800</td>\n",
       "      <td>75.099019</td>\n",
       "      <td>2.155747</td>\n",
       "    </tr>\n",
       "    <tr>\n",
       "      <th>std</th>\n",
       "      <td>25.522882</td>\n",
       "      <td>3.626887</td>\n",
       "      <td>0.225796</td>\n",
       "      <td>0.980675</td>\n",
       "      <td>1.037559</td>\n",
       "      <td>21.820447</td>\n",
       "      <td>4.986142</td>\n",
       "      <td>11.578278</td>\n",
       "      <td>0.738164</td>\n",
       "    </tr>\n",
       "    <tr>\n",
       "      <th>min</th>\n",
       "      <td>0.310000</td>\n",
       "      <td>0.000000</td>\n",
       "      <td>1.596380</td>\n",
       "      <td>0.001250</td>\n",
       "      <td>0.000000</td>\n",
       "      <td>30.000000</td>\n",
       "      <td>40.000000</td>\n",
       "      <td>52.000000</td>\n",
       "      <td>1.000000</td>\n",
       "    </tr>\n",
       "    <tr>\n",
       "      <th>25%</th>\n",
       "      <td>24.580000</td>\n",
       "      <td>3.000000</td>\n",
       "      <td>2.654730</td>\n",
       "      <td>2.152500</td>\n",
       "      <td>0.000000</td>\n",
       "      <td>46.000000</td>\n",
       "      <td>48.000000</td>\n",
       "      <td>67.000000</td>\n",
       "      <td>2.000000</td>\n",
       "    </tr>\n",
       "    <tr>\n",
       "      <th>50%</th>\n",
       "      <td>38.200000</td>\n",
       "      <td>6.000000</td>\n",
       "      <td>2.798050</td>\n",
       "      <td>2.895000</td>\n",
       "      <td>0.000000</td>\n",
       "      <td>61.000000</td>\n",
       "      <td>50.000000</td>\n",
       "      <td>74.000000</td>\n",
       "      <td>2.000000</td>\n",
       "    </tr>\n",
       "    <tr>\n",
       "      <th>75%</th>\n",
       "      <td>60.730000</td>\n",
       "      <td>10.000000</td>\n",
       "      <td>2.946780</td>\n",
       "      <td>3.582500</td>\n",
       "      <td>1.000000</td>\n",
       "      <td>80.000000</td>\n",
       "      <td>54.000000</td>\n",
       "      <td>82.000000</td>\n",
       "      <td>3.000000</td>\n",
       "    </tr>\n",
       "    <tr>\n",
       "      <th>max</th>\n",
       "      <td>109.230000</td>\n",
       "      <td>10.000000</td>\n",
       "      <td>4.875110</td>\n",
       "      <td>5.000000</td>\n",
       "      <td>8.000000</td>\n",
       "      <td>210.000000</td>\n",
       "      <td>124.000000</td>\n",
       "      <td>206.000000</td>\n",
       "      <td>3.000000</td>\n",
       "    </tr>\n",
       "  </tbody>\n",
       "</table>\n",
       "</div>"
      ],
      "text/plain": [
       "       Trip_Distance  Customer_Since_Months  Life_Style_Index  \\\n",
       "count  131662.000000          125742.000000     111469.000000   \n",
       "mean       44.200909               6.016661          2.802064   \n",
       "std        25.522882               3.626887          0.225796   \n",
       "min         0.310000               0.000000          1.596380   \n",
       "25%        24.580000               3.000000          2.654730   \n",
       "50%        38.200000               6.000000          2.798050   \n",
       "75%        60.730000              10.000000          2.946780   \n",
       "max       109.230000              10.000000          4.875110   \n",
       "\n",
       "       Customer_Rating  Cancellation_Last_1Month          Var1           Var2  \\\n",
       "count    131662.000000             131662.000000  60632.000000  131662.000000   \n",
       "mean          2.849458                  0.782838     64.202698      51.202800   \n",
       "std           0.980675                  1.037559     21.820447       4.986142   \n",
       "min           0.001250                  0.000000     30.000000      40.000000   \n",
       "25%           2.152500                  0.000000     46.000000      48.000000   \n",
       "50%           2.895000                  0.000000     61.000000      50.000000   \n",
       "75%           3.582500                  1.000000     80.000000      54.000000   \n",
       "max           5.000000                  8.000000    210.000000     124.000000   \n",
       "\n",
       "                Var3  Surge_Pricing_Type  \n",
       "count  131662.000000       131662.000000  \n",
       "mean       75.099019            2.155747  \n",
       "std        11.578278            0.738164  \n",
       "min        52.000000            1.000000  \n",
       "25%        67.000000            2.000000  \n",
       "50%        74.000000            2.000000  \n",
       "75%        82.000000            3.000000  \n",
       "max       206.000000            3.000000  "
      ]
     },
     "execution_count": 6,
     "metadata": {},
     "output_type": "execute_result"
    }
   ],
   "source": [
    "data.describe()"
   ]
  },
  {
   "cell_type": "code",
   "execution_count": 7,
   "metadata": {},
   "outputs": [
    {
     "data": {
      "text/plain": [
       "Trip_ID                            0\n",
       "Trip_Distance                      0\n",
       "Type_of_Cab                    20210\n",
       "Customer_Since_Months           5920\n",
       "Life_Style_Index               20193\n",
       "Confidence_Life_Style_Index    20193\n",
       "Destination_Type                   0\n",
       "Customer_Rating                    0\n",
       "Cancellation_Last_1Month           0\n",
       "Var1                           71030\n",
       "Var2                               0\n",
       "Var3                               0\n",
       "Gender                             0\n",
       "Surge_Pricing_Type                 0\n",
       "dtype: int64"
      ]
     },
     "execution_count": 7,
     "metadata": {},
     "output_type": "execute_result"
    }
   ],
   "source": [
    "data.isnull().sum()"
   ]
  },
  {
   "cell_type": "code",
   "execution_count": 8,
   "metadata": {},
   "outputs": [
    {
     "name": "stderr",
     "output_type": "stream",
     "text": [
      "/home/vignesh/.local/lib/python3.6/site-packages/matplotlib/axes/_axes.py:6521: MatplotlibDeprecationWarning: \n",
      "The 'normed' kwarg was deprecated in Matplotlib 2.1 and will be removed in 3.1. Use 'density' instead.\n",
      "  alternative=\"'density'\", removal=\"3.1\")\n"
     ]
    },
    {
     "data": {
      "text/plain": [
       "<matplotlib.axes._subplots.AxesSubplot at 0x7fe7f9becf60>"
      ]
     },
     "execution_count": 8,
     "metadata": {},
     "output_type": "execute_result"
    },
    {
     "data": {
      "image/png": "[encoded data removed]",
      "text/plain": [
       "<Figure size 432x288 with 1 Axes>"
      ]
     },
     "metadata": {},
     "output_type": "display_data"
    }
   ],
   "source": [
    "sns.distplot(data.Customer_Rating)"
   ]
  },
  {
   "cell_type": "code",
   "execution_count": 9,
   "metadata": {},
   "outputs": [
    {
     "ename": "NameError",
     "evalue": "name 'mean' is not defined",
     "output_type": "error",
     "traceback": [
      "\u001b[0;31m---------------------------------------------------------------------------\u001b[0m",
      "\u001b[0;31mNameError\u001b[0m                                 Traceback (most recent call last)",
      "\u001b[0;32m<ipython-input-9-d0d135f69629>\u001b[0m in \u001b[0;36m<module>\u001b[0;34m()\u001b[0m\n\u001b[0;32m----> 1\u001b[0;31m \u001b[0mmean\u001b[0m\u001b[0;34m(\u001b[0m\u001b[0mdata\u001b[0m\u001b[0;34m.\u001b[0m\u001b[0mCustomer_Rating\u001b[0m\u001b[0;34m)\u001b[0m \u001b[0;34m+\u001b[0m \u001b[0;34m(\u001b[0m\u001b[0;36m3\u001b[0m\u001b[0;34m*\u001b[0m\u001b[0mnp\u001b[0m\u001b[0;34m.\u001b[0m\u001b[0mstd\u001b[0m\u001b[0;34m(\u001b[0m\u001b[0mdata\u001b[0m\u001b[0;34m.\u001b[0m\u001b[0mCustomer_Rating\u001b[0m\u001b[0;34m)\u001b[0m\u001b[0;34m)\u001b[0m\u001b[0;34m\u001b[0m\u001b[0m\n\u001b[0m",
      "\u001b[0;31mNameError\u001b[0m: name 'mean' is not defined"
     ]
    }
   ],
   "source": [
    "mean(data.Customer_Rating) + (3*np.std(data.Customer_Rating))"
   ]
  },
  {
   "cell_type": "code",
   "execution_count": 10,
   "metadata": {},
   "outputs": [
    {
     "ename": "NameError",
     "evalue": "name 'mean' is not defined",
     "output_type": "error",
     "traceback": [
      "\u001b[0;31m---------------------------------------------------------------------------\u001b[0m",
      "\u001b[0;31mNameError\u001b[0m                                 Traceback (most recent call last)",
      "\u001b[0;32m<ipython-input-10-e998c149d229>\u001b[0m in \u001b[0;36m<module>\u001b[0;34m()\u001b[0m\n\u001b[0;32m----> 1\u001b[0;31m \u001b[0mmean\u001b[0m\u001b[0;34m(\u001b[0m\u001b[0mdata\u001b[0m\u001b[0;34m.\u001b[0m\u001b[0mCustomer_Rating\u001b[0m\u001b[0;34m)\u001b[0m \u001b[0;34m-\u001b[0m \u001b[0;34m(\u001b[0m\u001b[0;36m3\u001b[0m\u001b[0;34m*\u001b[0m\u001b[0mnp\u001b[0m\u001b[0;34m.\u001b[0m\u001b[0mstd\u001b[0m\u001b[0;34m(\u001b[0m\u001b[0mdata\u001b[0m\u001b[0;34m.\u001b[0m\u001b[0mCustomer_Rating\u001b[0m\u001b[0;34m)\u001b[0m\u001b[0;34m)\u001b[0m\u001b[0;34m\u001b[0m\u001b[0m\n\u001b[0m",
      "\u001b[0;31mNameError\u001b[0m: name 'mean' is not defined"
     ]
    }
   ],
   "source": [
    "mean(data.Customer_Rating) - (3*np.std(data.Customer_Rating))"
   ]
  },
  {
   "cell_type": "code",
   "execution_count": 11,
   "metadata": {},
   "outputs": [
    {
     "name": "stderr",
     "output_type": "stream",
     "text": [
      "/home/vignesh/.local/lib/python3.6/site-packages/matplotlib/axes/_axes.py:6521: MatplotlibDeprecationWarning: \n",
      "The 'normed' kwarg was deprecated in Matplotlib 2.1 and will be removed in 3.1. Use 'density' instead.\n",
      "  alternative=\"'density'\", removal=\"3.1\")\n"
     ]
    },
    {
     "data": {
      "text/plain": [
       "<matplotlib.axes._subplots.AxesSubplot at 0x7fe7f9828cc0>"
      ]
     },
     "execution_count": 11,
     "metadata": {},
     "output_type": "execute_result"
    },
    {
     "data": {
      "image/png": "[encoded data removed]",
      "text/plain": [
       "<Figure size 432x288 with 1 Axes>"
      ]
     },
     "metadata": {},
     "output_type": "display_data"
    }
   ],
   "source": [
    "sns.distplot(data[~data.Life_Style_Index.isna()].Life_Style_Index)"
   ]
  },
  {
   "cell_type": "code",
   "execution_count": 12,
   "metadata": {},
   "outputs": [
    {
     "ename": "NameError",
     "evalue": "name 'mean' is not defined",
     "output_type": "error",
     "traceback": [
      "\u001b[0;31m---------------------------------------------------------------------------\u001b[0m",
      "\u001b[0;31mNameError\u001b[0m                                 Traceback (most recent call last)",
      "\u001b[0;32m<ipython-input-12-f9bf23cdf034>\u001b[0m in \u001b[0;36m<module>\u001b[0;34m()\u001b[0m\n\u001b[0;32m----> 1\u001b[0;31m \u001b[0mmean_val\u001b[0m \u001b[0;34m=\u001b[0m \u001b[0mmean\u001b[0m\u001b[0;34m(\u001b[0m\u001b[0mdata\u001b[0m\u001b[0;34m[\u001b[0m\u001b[0;34m~\u001b[0m\u001b[0mdata\u001b[0m\u001b[0;34m.\u001b[0m\u001b[0mLife_Style_Index\u001b[0m\u001b[0;34m.\u001b[0m\u001b[0misna\u001b[0m\u001b[0;34m(\u001b[0m\u001b[0;34m)\u001b[0m\u001b[0;34m]\u001b[0m\u001b[0;34m.\u001b[0m\u001b[0mLife_Style_Index\u001b[0m\u001b[0;34m)\u001b[0m\u001b[0;34m\u001b[0m\u001b[0m\n\u001b[0m",
      "\u001b[0;31mNameError\u001b[0m: name 'mean' is not defined"
     ]
    }
   ],
   "source": [
    "mean_val = mean(data[~data.Life_Style_Index.isna()].Life_Style_Index)"
   ]
  },
  {
   "cell_type": "code",
   "execution_count": null,
   "metadata": {},
   "outputs": [],
   "source": [
    "np.median(data[~data.Life_Style_Index.isna()].Life_Style_Index)"
   ]
  },
  {
   "cell_type": "code",
   "execution_count": null,
   "metadata": {},
   "outputs": [],
   "source": [
    "std_val = np.std(data[~data.Life_Style_Index.isna()].Life_Style_Index)"
   ]
  },
  {
   "cell_type": "code",
   "execution_count": 13,
   "metadata": {},
   "outputs": [
    {
     "ename": "NameError",
     "evalue": "name 'mean_val' is not defined",
     "output_type": "error",
     "traceback": [
      "\u001b[0;31m---------------------------------------------------------------------------\u001b[0m",
      "\u001b[0;31mNameError\u001b[0m                                 Traceback (most recent call last)",
      "\u001b[0;32m<ipython-input-13-f5b559c01450>\u001b[0m in \u001b[0;36m<module>\u001b[0;34m()\u001b[0m\n\u001b[0;32m----> 1\u001b[0;31m \u001b[0mmean_val\u001b[0m\u001b[0;34m+\u001b[0m\u001b[0;34m(\u001b[0m\u001b[0;36m3\u001b[0m\u001b[0;34m*\u001b[0m\u001b[0mstd_val\u001b[0m\u001b[0;34m)\u001b[0m\u001b[0;34m\u001b[0m\u001b[0m\n\u001b[0m",
      "\u001b[0;31mNameError\u001b[0m: name 'mean_val' is not defined"
     ]
    }
   ],
   "source": [
    "mean_val+(3*std_val)"
   ]
  },
  {
   "cell_type": "code",
   "execution_count": 14,
   "metadata": {},
   "outputs": [
    {
     "ename": "NameError",
     "evalue": "name 'mean_val' is not defined",
     "output_type": "error",
     "traceback": [
      "\u001b[0;31m---------------------------------------------------------------------------\u001b[0m",
      "\u001b[0;31mNameError\u001b[0m                                 Traceback (most recent call last)",
      "\u001b[0;32m<ipython-input-14-8f301af4d4d5>\u001b[0m in \u001b[0;36m<module>\u001b[0;34m()\u001b[0m\n\u001b[0;32m----> 1\u001b[0;31m \u001b[0mmean_val\u001b[0m\u001b[0;34m-\u001b[0m\u001b[0;34m(\u001b[0m\u001b[0;36m3\u001b[0m\u001b[0;34m*\u001b[0m\u001b[0mstd_val\u001b[0m\u001b[0;34m)\u001b[0m\u001b[0;34m\u001b[0m\u001b[0m\n\u001b[0m",
      "\u001b[0;31mNameError\u001b[0m: name 'mean_val' is not defined"
     ]
    }
   ],
   "source": [
    "mean_val-(3*std_val)"
   ]
  },
  {
   "cell_type": "code",
   "execution_count": 15,
   "metadata": {},
   "outputs": [
    {
     "data": {
      "text/plain": [
       "<matplotlib.axes._subplots.AxesSubplot at 0x7fe7f9828630>"
      ]
     },
     "execution_count": 15,
     "metadata": {},
     "output_type": "execute_result"
    },
    {
     "data": {
      "image/png": "[encoded data removed]",
      "text/plain": [
       "<Figure size 432x288 with 1 Axes>"
      ]
     },
     "metadata": {},
     "output_type": "display_data"
    }
   ],
   "source": [
    "temp = pd.crosstab(data['Customer_Since_Months'], data['Surge_Pricing_Type'])\n",
    "temp.div(temp.sum(1).astype(float), axis=0).plot(kind=\"bar\", stacked=True)"
   ]
  },
  {
   "cell_type": "code",
   "execution_count": 16,
   "metadata": {},
   "outputs": [
    {
     "data": {
      "text/html": [
       "<div>\n",
       "<style scoped>\n",
       "    .dataframe tbody tr th:only-of-type {\n",
       "        vertical-align: middle;\n",
       "    }\n",
       "\n",
       "    .dataframe tbody tr th {\n",
       "        vertical-align: top;\n",
       "    }\n",
       "\n",
       "    .dataframe thead th {\n",
       "        text-align: right;\n",
       "    }\n",
       "</style>\n",
       "<table border=\"1\" class=\"dataframe\">\n",
       "  <thead>\n",
       "    <tr style=\"text-align: right;\">\n",
       "      <th>Surge_Pricing_Type</th>\n",
       "      <th>1</th>\n",
       "      <th>2</th>\n",
       "      <th>3</th>\n",
       "    </tr>\n",
       "    <tr>\n",
       "      <th>Customer_Since_Months</th>\n",
       "      <th></th>\n",
       "      <th></th>\n",
       "      <th></th>\n",
       "    </tr>\n",
       "  </thead>\n",
       "  <tbody>\n",
       "    <tr>\n",
       "      <th>0.0</th>\n",
       "      <td>2225</td>\n",
       "      <td>4524</td>\n",
       "      <td>3420</td>\n",
       "    </tr>\n",
       "    <tr>\n",
       "      <th>1.0</th>\n",
       "      <td>1803</td>\n",
       "      <td>3637</td>\n",
       "      <td>2857</td>\n",
       "    </tr>\n",
       "    <tr>\n",
       "      <th>2.0</th>\n",
       "      <td>2435</td>\n",
       "      <td>5139</td>\n",
       "      <td>4047</td>\n",
       "    </tr>\n",
       "    <tr>\n",
       "      <th>3.0</th>\n",
       "      <td>2283</td>\n",
       "      <td>4491</td>\n",
       "      <td>3577</td>\n",
       "    </tr>\n",
       "    <tr>\n",
       "      <th>4.0</th>\n",
       "      <td>1643</td>\n",
       "      <td>3382</td>\n",
       "      <td>2701</td>\n",
       "    </tr>\n",
       "    <tr>\n",
       "      <th>5.0</th>\n",
       "      <td>1826</td>\n",
       "      <td>3695</td>\n",
       "      <td>3120</td>\n",
       "    </tr>\n",
       "    <tr>\n",
       "      <th>6.0</th>\n",
       "      <td>1490</td>\n",
       "      <td>3148</td>\n",
       "      <td>2737</td>\n",
       "    </tr>\n",
       "    <tr>\n",
       "      <th>7.0</th>\n",
       "      <td>1478</td>\n",
       "      <td>3145</td>\n",
       "      <td>2784</td>\n",
       "    </tr>\n",
       "    <tr>\n",
       "      <th>8.0</th>\n",
       "      <td>1291</td>\n",
       "      <td>2774</td>\n",
       "      <td>2263</td>\n",
       "    </tr>\n",
       "    <tr>\n",
       "      <th>9.0</th>\n",
       "      <td>1018</td>\n",
       "      <td>2183</td>\n",
       "      <td>1946</td>\n",
       "    </tr>\n",
       "    <tr>\n",
       "      <th>10.0</th>\n",
       "      <td>8575</td>\n",
       "      <td>18070</td>\n",
       "      <td>16035</td>\n",
       "    </tr>\n",
       "  </tbody>\n",
       "</table>\n",
       "</div>"
      ],
      "text/plain": [
       "Surge_Pricing_Type        1      2      3\n",
       "Customer_Since_Months                    \n",
       "0.0                    2225   4524   3420\n",
       "1.0                    1803   3637   2857\n",
       "2.0                    2435   5139   4047\n",
       "3.0                    2283   4491   3577\n",
       "4.0                    1643   3382   2701\n",
       "5.0                    1826   3695   3120\n",
       "6.0                    1490   3148   2737\n",
       "7.0                    1478   3145   2784\n",
       "8.0                    1291   2774   2263\n",
       "9.0                    1018   2183   1946\n",
       "10.0                   8575  18070  16035"
      ]
     },
     "execution_count": 16,
     "metadata": {},
     "output_type": "execute_result"
    }
   ],
   "source": [
    "temp"
   ]
  },
  {
   "cell_type": "code",
   "execution_count": 17,
   "metadata": {},
   "outputs": [
    {
     "data": {
      "text/html": [
       "<div>\n",
       "<style scoped>\n",
       "    .dataframe tbody tr th:only-of-type {\n",
       "        vertical-align: middle;\n",
       "    }\n",
       "\n",
       "    .dataframe tbody tr th {\n",
       "        vertical-align: top;\n",
       "    }\n",
       "\n",
       "    .dataframe thead th {\n",
       "        text-align: right;\n",
       "    }\n",
       "</style>\n",
       "<table border=\"1\" class=\"dataframe\">\n",
       "  <thead>\n",
       "    <tr style=\"text-align: right;\">\n",
       "      <th></th>\n",
       "      <th>Trip_Distance</th>\n",
       "      <th>Customer_Since_Months</th>\n",
       "      <th>Life_Style_Index</th>\n",
       "      <th>Customer_Rating</th>\n",
       "      <th>Cancellation_Last_1Month</th>\n",
       "      <th>Var1</th>\n",
       "      <th>Var2</th>\n",
       "      <th>Var3</th>\n",
       "      <th>Surge_Pricing_Type</th>\n",
       "    </tr>\n",
       "  </thead>\n",
       "  <tbody>\n",
       "    <tr>\n",
       "      <th>Trip_Distance</th>\n",
       "      <td>1.000000</td>\n",
       "      <td>0.116812</td>\n",
       "      <td>0.509482</td>\n",
       "      <td>-0.054654</td>\n",
       "      <td>-0.007686</td>\n",
       "      <td>-0.045468</td>\n",
       "      <td>0.200456</td>\n",
       "      <td>0.231706</td>\n",
       "      <td>0.135928</td>\n",
       "    </tr>\n",
       "    <tr>\n",
       "      <th>Customer_Since_Months</th>\n",
       "      <td>0.116812</td>\n",
       "      <td>1.000000</td>\n",
       "      <td>0.135114</td>\n",
       "      <td>-0.050349</td>\n",
       "      <td>-0.006325</td>\n",
       "      <td>-0.009856</td>\n",
       "      <td>0.042637</td>\n",
       "      <td>0.113403</td>\n",
       "      <td>0.027827</td>\n",
       "    </tr>\n",
       "    <tr>\n",
       "      <th>Life_Style_Index</th>\n",
       "      <td>0.509482</td>\n",
       "      <td>0.135114</td>\n",
       "      <td>1.000000</td>\n",
       "      <td>0.205824</td>\n",
       "      <td>0.074023</td>\n",
       "      <td>-0.091307</td>\n",
       "      <td>0.234754</td>\n",
       "      <td>0.329312</td>\n",
       "      <td>-0.080108</td>\n",
       "    </tr>\n",
       "    <tr>\n",
       "      <th>Customer_Rating</th>\n",
       "      <td>-0.054654</td>\n",
       "      <td>-0.050349</td>\n",
       "      <td>0.205824</td>\n",
       "      <td>1.000000</td>\n",
       "      <td>0.003595</td>\n",
       "      <td>-0.010968</td>\n",
       "      <td>-0.302968</td>\n",
       "      <td>-0.227531</td>\n",
       "      <td>-0.155279</td>\n",
       "    </tr>\n",
       "    <tr>\n",
       "      <th>Cancellation_Last_1Month</th>\n",
       "      <td>-0.007686</td>\n",
       "      <td>-0.006325</td>\n",
       "      <td>0.074023</td>\n",
       "      <td>0.003595</td>\n",
       "      <td>1.000000</td>\n",
       "      <td>0.010953</td>\n",
       "      <td>0.095830</td>\n",
       "      <td>0.128686</td>\n",
       "      <td>0.185646</td>\n",
       "    </tr>\n",
       "    <tr>\n",
       "      <th>Var1</th>\n",
       "      <td>-0.045468</td>\n",
       "      <td>-0.009856</td>\n",
       "      <td>-0.091307</td>\n",
       "      <td>-0.010968</td>\n",
       "      <td>0.010953</td>\n",
       "      <td>1.000000</td>\n",
       "      <td>-0.046755</td>\n",
       "      <td>-0.061993</td>\n",
       "      <td>-0.040735</td>\n",
       "    </tr>\n",
       "    <tr>\n",
       "      <th>Var2</th>\n",
       "      <td>0.200456</td>\n",
       "      <td>0.042637</td>\n",
       "      <td>0.234754</td>\n",
       "      <td>-0.302968</td>\n",
       "      <td>0.095830</td>\n",
       "      <td>-0.046755</td>\n",
       "      <td>1.000000</td>\n",
       "      <td>0.683437</td>\n",
       "      <td>0.003437</td>\n",
       "    </tr>\n",
       "    <tr>\n",
       "      <th>Var3</th>\n",
       "      <td>0.231706</td>\n",
       "      <td>0.113403</td>\n",
       "      <td>0.329312</td>\n",
       "      <td>-0.227531</td>\n",
       "      <td>0.128686</td>\n",
       "      <td>-0.061993</td>\n",
       "      <td>0.683437</td>\n",
       "      <td>1.000000</td>\n",
       "      <td>-0.039309</td>\n",
       "    </tr>\n",
       "    <tr>\n",
       "      <th>Surge_Pricing_Type</th>\n",
       "      <td>0.135928</td>\n",
       "      <td>0.027827</td>\n",
       "      <td>-0.080108</td>\n",
       "      <td>-0.155279</td>\n",
       "      <td>0.185646</td>\n",
       "      <td>-0.040735</td>\n",
       "      <td>0.003437</td>\n",
       "      <td>-0.039309</td>\n",
       "      <td>1.000000</td>\n",
       "    </tr>\n",
       "  </tbody>\n",
       "</table>\n",
       "</div>"
      ],
      "text/plain": [
       "                          Trip_Distance  Customer_Since_Months  \\\n",
       "Trip_Distance                  1.000000               0.116812   \n",
       "Customer_Since_Months          0.116812               1.000000   \n",
       "Life_Style_Index               0.509482               0.135114   \n",
       "Customer_Rating               -0.054654              -0.050349   \n",
       "Cancellation_Last_1Month      -0.007686              -0.006325   \n",
       "Var1                          -0.045468              -0.009856   \n",
       "Var2                           0.200456               0.042637   \n",
       "Var3                           0.231706               0.113403   \n",
       "Surge_Pricing_Type             0.135928               0.027827   \n",
       "\n",
       "                          Life_Style_Index  Customer_Rating  \\\n",
       "Trip_Distance                     0.509482        -0.054654   \n",
       "Customer_Since_Months             0.135114        -0.050349   \n",
       "Life_Style_Index                  1.000000         0.205824   \n",
       "Customer_Rating                   0.205824         1.000000   \n",
       "Cancellation_Last_1Month          0.074023         0.003595   \n",
       "Var1                             -0.091307        -0.010968   \n",
       "Var2                              0.234754        -0.302968   \n",
       "Var3                              0.329312        -0.227531   \n",
       "Surge_Pricing_Type               -0.080108        -0.155279   \n",
       "\n",
       "                          Cancellation_Last_1Month      Var1      Var2  \\\n",
       "Trip_Distance                            -0.007686 -0.045468  0.200456   \n",
       "Customer_Since_Months                    -0.006325 -0.009856  0.042637   \n",
       "Life_Style_Index                          0.074023 -0.091307  0.234754   \n",
       "Customer_Rating                           0.003595 -0.010968 -0.302968   \n",
       "Cancellation_Last_1Month                  1.000000  0.010953  0.095830   \n",
       "Var1                                      0.010953  1.000000 -0.046755   \n",
       "Var2                                      0.095830 -0.046755  1.000000   \n",
       "Var3                                      0.128686 -0.061993  0.683437   \n",
       "Surge_Pricing_Type                        0.185646 -0.040735  0.003437   \n",
       "\n",
       "                              Var3  Surge_Pricing_Type  \n",
       "Trip_Distance             0.231706            0.135928  \n",
       "Customer_Since_Months     0.113403            0.027827  \n",
       "Life_Style_Index          0.329312           -0.080108  \n",
       "Customer_Rating          -0.227531           -0.155279  \n",
       "Cancellation_Last_1Month  0.128686            0.185646  \n",
       "Var1                     -0.061993           -0.040735  \n",
       "Var2                      0.683437            0.003437  \n",
       "Var3                      1.000000           -0.039309  \n",
       "Surge_Pricing_Type       -0.039309            1.000000  "
      ]
     },
     "execution_count": 17,
     "metadata": {},
     "output_type": "execute_result"
    }
   ],
   "source": [
    "data.corr()"
   ]
  },
  {
   "cell_type": "code",
   "execution_count": 18,
   "metadata": {},
   "outputs": [
    {
     "data": {
      "text/plain": [
       "131662"
      ]
     },
     "execution_count": 18,
     "metadata": {},
     "output_type": "execute_result"
    }
   ],
   "source": [
    "len(data)"
   ]
  },
  {
   "cell_type": "code",
   "execution_count": 19,
   "metadata": {},
   "outputs": [
    {
     "data": {
      "text/plain": [
       "Surge_Pricing_Type\n",
       "1    27214\n",
       "2    56728\n",
       "3    47720\n",
       "dtype: int64"
      ]
     },
     "execution_count": 19,
     "metadata": {},
     "output_type": "execute_result"
    }
   ],
   "source": [
    "data.groupby(['Surge_Pricing_Type']).size()"
   ]
  },
  {
   "cell_type": "code",
   "execution_count": 20,
   "metadata": {},
   "outputs": [],
   "source": [
    "# sns.boxplot(data['Trip_Distance'], data['Surge_Pricing_Type'])"
   ]
  },
  {
   "cell_type": "code",
   "execution_count": 21,
   "metadata": {},
   "outputs": [
    {
     "data": {
      "text/html": [
       "<div>\n",
       "<style scoped>\n",
       "    .dataframe tbody tr th:only-of-type {\n",
       "        vertical-align: middle;\n",
       "    }\n",
       "\n",
       "    .dataframe tbody tr th {\n",
       "        vertical-align: top;\n",
       "    }\n",
       "\n",
       "    .dataframe thead th {\n",
       "        text-align: right;\n",
       "    }\n",
       "</style>\n",
       "<table border=\"1\" class=\"dataframe\">\n",
       "  <thead>\n",
       "    <tr style=\"text-align: right;\">\n",
       "      <th></th>\n",
       "      <th>Trip_Distance</th>\n",
       "      <th>Customer_Since_Months</th>\n",
       "      <th>Life_Style_Index</th>\n",
       "      <th>Customer_Rating</th>\n",
       "      <th>Cancellation_Last_1Month</th>\n",
       "      <th>Var1</th>\n",
       "      <th>Var2</th>\n",
       "      <th>Var3</th>\n",
       "    </tr>\n",
       "    <tr>\n",
       "      <th>Surge_Pricing_Type</th>\n",
       "      <th></th>\n",
       "      <th></th>\n",
       "      <th></th>\n",
       "      <th></th>\n",
       "      <th></th>\n",
       "      <th></th>\n",
       "      <th></th>\n",
       "      <th></th>\n",
       "    </tr>\n",
       "  </thead>\n",
       "  <tbody>\n",
       "    <tr>\n",
       "      <th>1</th>\n",
       "      <td>41.061633</td>\n",
       "      <td>5.898262</td>\n",
       "      <td>2.847554</td>\n",
       "      <td>3.112791</td>\n",
       "      <td>0.516242</td>\n",
       "      <td>66.033552</td>\n",
       "      <td>51.316785</td>\n",
       "      <td>76.252223</td>\n",
       "    </tr>\n",
       "    <tr>\n",
       "      <th>2</th>\n",
       "      <td>41.269265</td>\n",
       "      <td>5.957647</td>\n",
       "      <td>2.789416</td>\n",
       "      <td>2.857688</td>\n",
       "      <td>0.708627</td>\n",
       "      <td>64.343560</td>\n",
       "      <td>51.064078</td>\n",
       "      <td>74.772299</td>\n",
       "    </tr>\n",
       "    <tr>\n",
       "      <th>3</th>\n",
       "      <td>49.476234</td>\n",
       "      <td>6.154813</td>\n",
       "      <td>2.791163</td>\n",
       "      <td>2.689500</td>\n",
       "      <td>1.023093</td>\n",
       "      <td>63.347217</td>\n",
       "      <td>51.302703</td>\n",
       "      <td>74.829757</td>\n",
       "    </tr>\n",
       "  </tbody>\n",
       "</table>\n",
       "</div>"
      ],
      "text/plain": [
       "                    Trip_Distance  Customer_Since_Months  Life_Style_Index  \\\n",
       "Surge_Pricing_Type                                                           \n",
       "1                       41.061633               5.898262          2.847554   \n",
       "2                       41.269265               5.957647          2.789416   \n",
       "3                       49.476234               6.154813          2.791163   \n",
       "\n",
       "                    Customer_Rating  Cancellation_Last_1Month       Var1  \\\n",
       "Surge_Pricing_Type                                                         \n",
       "1                          3.112791                  0.516242  66.033552   \n",
       "2                          2.857688                  0.708627  64.343560   \n",
       "3                          2.689500                  1.023093  63.347217   \n",
       "\n",
       "                         Var2       Var3  \n",
       "Surge_Pricing_Type                        \n",
       "1                   51.316785  76.252223  \n",
       "2                   51.064078  74.772299  \n",
       "3                   51.302703  74.829757  "
      ]
     },
     "execution_count": 21,
     "metadata": {},
     "output_type": "execute_result"
    }
   ],
   "source": [
    "data.groupby(['Surge_Pricing_Type']).mean()"
   ]
  },
  {
   "cell_type": "code",
   "execution_count": 22,
   "metadata": {},
   "outputs": [
    {
     "data": {
      "text/html": [
       "<div>\n",
       "<style scoped>\n",
       "    .dataframe tbody tr th:only-of-type {\n",
       "        vertical-align: middle;\n",
       "    }\n",
       "\n",
       "    .dataframe tbody tr th {\n",
       "        vertical-align: top;\n",
       "    }\n",
       "\n",
       "    .dataframe thead th {\n",
       "        text-align: right;\n",
       "    }\n",
       "</style>\n",
       "<table border=\"1\" class=\"dataframe\">\n",
       "  <thead>\n",
       "    <tr style=\"text-align: right;\">\n",
       "      <th></th>\n",
       "      <th>Trip_Distance</th>\n",
       "      <th>Customer_Since_Months</th>\n",
       "      <th>Life_Style_Index</th>\n",
       "      <th>Customer_Rating</th>\n",
       "      <th>Cancellation_Last_1Month</th>\n",
       "      <th>Var1</th>\n",
       "      <th>Var2</th>\n",
       "      <th>Var3</th>\n",
       "    </tr>\n",
       "    <tr>\n",
       "      <th>Surge_Pricing_Type</th>\n",
       "      <th></th>\n",
       "      <th></th>\n",
       "      <th></th>\n",
       "      <th></th>\n",
       "      <th></th>\n",
       "      <th></th>\n",
       "      <th></th>\n",
       "      <th></th>\n",
       "    </tr>\n",
       "  </thead>\n",
       "  <tbody>\n",
       "    <tr>\n",
       "      <th>1</th>\n",
       "      <td>36.685</td>\n",
       "      <td>6.0</td>\n",
       "      <td>2.847500</td>\n",
       "      <td>3.17125</td>\n",
       "      <td>0</td>\n",
       "      <td>64.0</td>\n",
       "      <td>51</td>\n",
       "      <td>75</td>\n",
       "    </tr>\n",
       "    <tr>\n",
       "      <th>2</th>\n",
       "      <td>36.170</td>\n",
       "      <td>6.0</td>\n",
       "      <td>2.782820</td>\n",
       "      <td>2.90500</td>\n",
       "      <td>0</td>\n",
       "      <td>61.0</td>\n",
       "      <td>50</td>\n",
       "      <td>73</td>\n",
       "    </tr>\n",
       "    <tr>\n",
       "      <th>3</th>\n",
       "      <td>45.520</td>\n",
       "      <td>7.0</td>\n",
       "      <td>2.783295</td>\n",
       "      <td>2.71125</td>\n",
       "      <td>1</td>\n",
       "      <td>60.0</td>\n",
       "      <td>50</td>\n",
       "      <td>73</td>\n",
       "    </tr>\n",
       "  </tbody>\n",
       "</table>\n",
       "</div>"
      ],
      "text/plain": [
       "                    Trip_Distance  Customer_Since_Months  Life_Style_Index  \\\n",
       "Surge_Pricing_Type                                                           \n",
       "1                          36.685                    6.0          2.847500   \n",
       "2                          36.170                    6.0          2.782820   \n",
       "3                          45.520                    7.0          2.783295   \n",
       "\n",
       "                    Customer_Rating  Cancellation_Last_1Month  Var1  Var2  \\\n",
       "Surge_Pricing_Type                                                          \n",
       "1                           3.17125                         0  64.0    51   \n",
       "2                           2.90500                         0  61.0    50   \n",
       "3                           2.71125                         1  60.0    50   \n",
       "\n",
       "                    Var3  \n",
       "Surge_Pricing_Type        \n",
       "1                     75  \n",
       "2                     73  \n",
       "3                     73  "
      ]
     },
     "execution_count": 22,
     "metadata": {},
     "output_type": "execute_result"
    }
   ],
   "source": [
    "data.groupby(['Surge_Pricing_Type']).median()"
   ]
  },
  {
   "cell_type": "code",
   "execution_count": 23,
   "metadata": {},
   "outputs": [
    {
     "data": {
      "text/plain": [
       "<matplotlib.axes._subplots.AxesSubplot at 0x7fe7f66f49e8>"
      ]
     },
     "execution_count": 23,
     "metadata": {},
     "output_type": "execute_result"
    },
    {
     "data": {
      "image/png": "[encoded data removed]",
      "text/plain": [
       "<Figure size 432x288 with 1 Axes>"
      ]
     },
     "metadata": {},
     "output_type": "display_data"
    }
   ],
   "source": [
    "sns.distplot(data[data.Surge_Pricing_Type==1]['Trip_Distance'], hist=False, label='1')\n",
    "sns.distplot(data[data.Surge_Pricing_Type==2]['Trip_Distance'], hist=False, label='2')\n",
    "sns.distplot(data[data.Surge_Pricing_Type==3]['Trip_Distance'], hist=False, label='3')"
   ]
  },
  {
   "cell_type": "code",
   "execution_count": 24,
   "metadata": {},
   "outputs": [
    {
     "data": {
      "image/png": "[encoded data removed]",
      "text/plain": [
       "<Figure size 432x288 with 1 Axes>"
      ]
     },
     "metadata": {},
     "output_type": "display_data"
    },
    {
     "data": {
      "image/png": "[encoded data removed]",
      "text/plain": [
       "<Figure size 432x288 with 1 Axes>"
      ]
     },
     "metadata": {},
     "output_type": "display_data"
    },
    {
     "data": {
      "image/png": "[encoded data removed]",
      "text/plain": [
       "<Figure size 432x288 with 1 Axes>"
      ]
     },
     "metadata": {},
     "output_type": "display_data"
    }
   ],
   "source": [
    "sns.boxplot(data[data.Surge_Pricing_Type==1]['Trip_Distance'])\n",
    "plt.show()\n",
    "sns.boxplot(data[data.Surge_Pricing_Type==2]['Trip_Distance'])\n",
    "plt.show()\n",
    "sns.boxplot(data[data.Surge_Pricing_Type==3]['Trip_Distance'])\n",
    "plt.show()\n",
    "# sns.distplot(data[data.Surge_Pricing_Type==3]['Trip_Distance'], hist=False, label='3')"
   ]
  },
  {
   "cell_type": "code",
   "execution_count": 25,
   "metadata": {},
   "outputs": [
    {
     "data": {
      "text/plain": [
       "<matplotlib.axes._subplots.AxesSubplot at 0x7fe7f65bfcc0>"
      ]
     },
     "execution_count": 25,
     "metadata": {},
     "output_type": "execute_result"
    },
    {
     "data": {
      "image/png": "[encoded data removed]",
      "text/plain": [
       "<Figure size 432x288 with 1 Axes>"
      ]
     },
     "metadata": {},
     "output_type": "display_data"
    }
   ],
   "source": [
    "sns.distplot(data[(data.Life_Style_Index.isna()==False) & (data.Surge_Pricing_Type==1)]['Life_Style_Index'], hist=False, label='1')\n",
    "sns.distplot(data[(data.Life_Style_Index.isna()==False) & (data.Surge_Pricing_Type==2)]['Life_Style_Index'], hist=False, label='2')\n",
    "# sns.distplot(data[(data.Life_Style_Index.isna()==False) & (data.Surge_Pricing_Type==3)]['Life_Style_Index'], hist=False, label='3')\n"
   ]
  },
  {
   "cell_type": "code",
   "execution_count": 26,
   "metadata": {},
   "outputs": [
    {
     "data": {
      "text/plain": [
       "<matplotlib.axes._subplots.AxesSubplot at 0x7fe7f6545588>"
      ]
     },
     "execution_count": 26,
     "metadata": {},
     "output_type": "execute_result"
    },
    {
     "data": {
      "image/png": "[encoded data removed]",
      "text/plain": [
       "<Figure size 432x288 with 1 Axes>"
      ]
     },
     "metadata": {},
     "output_type": "display_data"
    }
   ],
   "source": [
    "sns.distplot(data[(data.Life_Style_Index.isna()==False) & (data.Surge_Pricing_Type==2)]['Life_Style_Index'], hist=False, label='2')\n",
    "sns.distplot(data[(data.Life_Style_Index.isna()==False) & (data.Surge_Pricing_Type==3)]['Life_Style_Index'], hist=False, label='3')\n"
   ]
  },
  {
   "cell_type": "code",
   "execution_count": 27,
   "metadata": {},
   "outputs": [
    {
     "data": {
      "text/plain": [
       "<matplotlib.axes._subplots.AxesSubplot at 0x7fe7f6611780>"
      ]
     },
     "execution_count": 27,
     "metadata": {},
     "output_type": "execute_result"
    },
    {
     "data": {
      "image/png": "[encoded data removed]",
      "text/plain": [
       "<Figure size 432x288 with 1 Axes>"
      ]
     },
     "metadata": {},
     "output_type": "display_data"
    }
   ],
   "source": [
    "sns.distplot(data[(data.Life_Style_Index.isna()==False) & (data.Surge_Pricing_Type==1)]['Life_Style_Index'], hist=False, label='1')\n",
    "sns.distplot(data[(data.Life_Style_Index.isna()==False) & (data.Surge_Pricing_Type==3)]['Life_Style_Index'], hist=False, label='3')\n"
   ]
  },
  {
   "cell_type": "code",
   "execution_count": 28,
   "metadata": {},
   "outputs": [
    {
     "data": {
      "image/png": "[encoded data removed]",
      "text/plain": [
       "<Figure size 432x288 with 1 Axes>"
      ]
     },
     "metadata": {},
     "output_type": "display_data"
    },
    {
     "data": {
      "image/png": "[encoded data removed]",
      "text/plain": [
       "<Figure size 432x288 with 1 Axes>"
      ]
     },
     "metadata": {},
     "output_type": "display_data"
    },
    {
     "data": {
      "text/plain": [
       "<matplotlib.axes._subplots.AxesSubplot at 0x7fe7f649eda0>"
      ]
     },
     "execution_count": 28,
     "metadata": {},
     "output_type": "execute_result"
    },
    {
     "data": {
      "image/png": "[encoded data removed]",
      "text/plain": [
       "<Figure size 432x288 with 1 Axes>"
      ]
     },
     "metadata": {},
     "output_type": "display_data"
    }
   ],
   "source": [
    "sns.boxplot(data[(data.Life_Style_Index.isna()==False) & (data.Surge_Pricing_Type==1)]['Life_Style_Index'])\n",
    "plt.show()\n",
    "sns.boxplot(data[(data.Life_Style_Index.isna()==False) & (data.Surge_Pricing_Type==2)]['Life_Style_Index'])\n",
    "plt.show()\n",
    "sns.boxplot(data[(data.Life_Style_Index.isna()==False) & (data.Surge_Pricing_Type==3)]['Life_Style_Index'])\n"
   ]
  },
  {
   "cell_type": "code",
   "execution_count": 29,
   "metadata": {},
   "outputs": [
    {
     "data": {
      "text/html": [
       "<div>\n",
       "<style scoped>\n",
       "    .dataframe tbody tr th:only-of-type {\n",
       "        vertical-align: middle;\n",
       "    }\n",
       "\n",
       "    .dataframe tbody tr th {\n",
       "        vertical-align: top;\n",
       "    }\n",
       "\n",
       "    .dataframe thead th {\n",
       "        text-align: right;\n",
       "    }\n",
       "</style>\n",
       "<table border=\"1\" class=\"dataframe\">\n",
       "  <thead>\n",
       "    <tr style=\"text-align: right;\">\n",
       "      <th>Surge_Pricing_Type</th>\n",
       "      <th>1</th>\n",
       "      <th>2</th>\n",
       "      <th>3</th>\n",
       "    </tr>\n",
       "    <tr>\n",
       "      <th>Gender</th>\n",
       "      <th></th>\n",
       "      <th></th>\n",
       "      <th></th>\n",
       "    </tr>\n",
       "  </thead>\n",
       "  <tbody>\n",
       "    <tr>\n",
       "      <th>Female</th>\n",
       "      <td>7758</td>\n",
       "      <td>16403</td>\n",
       "      <td>13601</td>\n",
       "    </tr>\n",
       "    <tr>\n",
       "      <th>Male</th>\n",
       "      <td>19456</td>\n",
       "      <td>40325</td>\n",
       "      <td>34119</td>\n",
       "    </tr>\n",
       "  </tbody>\n",
       "</table>\n",
       "</div>"
      ],
      "text/plain": [
       "Surge_Pricing_Type      1      2      3\n",
       "Gender                                 \n",
       "Female               7758  16403  13601\n",
       "Male                19456  40325  34119"
      ]
     },
     "execution_count": 29,
     "metadata": {},
     "output_type": "execute_result"
    }
   ],
   "source": [
    "pd.crosstab(data['Gender'], data.Surge_Pricing_Type)"
   ]
  },
  {
   "cell_type": "code",
   "execution_count": 30,
   "metadata": {},
   "outputs": [
    {
     "data": {
      "text/html": [
       "<div>\n",
       "<style scoped>\n",
       "    .dataframe tbody tr th:only-of-type {\n",
       "        vertical-align: middle;\n",
       "    }\n",
       "\n",
       "    .dataframe tbody tr th {\n",
       "        vertical-align: top;\n",
       "    }\n",
       "\n",
       "    .dataframe thead th {\n",
       "        text-align: right;\n",
       "    }\n",
       "</style>\n",
       "<table border=\"1\" class=\"dataframe\">\n",
       "  <thead>\n",
       "    <tr style=\"text-align: right;\">\n",
       "      <th>Surge_Pricing_Type</th>\n",
       "      <th>1</th>\n",
       "      <th>2</th>\n",
       "      <th>3</th>\n",
       "    </tr>\n",
       "    <tr>\n",
       "      <th>Type_of_Cab</th>\n",
       "      <th></th>\n",
       "      <th></th>\n",
       "      <th></th>\n",
       "    </tr>\n",
       "  </thead>\n",
       "  <tbody>\n",
       "    <tr>\n",
       "      <th>A</th>\n",
       "      <td>14916</td>\n",
       "      <td>2258</td>\n",
       "      <td>4395</td>\n",
       "    </tr>\n",
       "    <tr>\n",
       "      <th>B</th>\n",
       "      <td>4918</td>\n",
       "      <td>23852</td>\n",
       "      <td>2366</td>\n",
       "    </tr>\n",
       "    <tr>\n",
       "      <th>C</th>\n",
       "      <td>1037</td>\n",
       "      <td>17290</td>\n",
       "      <td>9795</td>\n",
       "    </tr>\n",
       "    <tr>\n",
       "      <th>D</th>\n",
       "      <td>1065</td>\n",
       "      <td>2511</td>\n",
       "      <td>15415</td>\n",
       "    </tr>\n",
       "    <tr>\n",
       "      <th>E</th>\n",
       "      <td>1073</td>\n",
       "      <td>2172</td>\n",
       "      <td>8389</td>\n",
       "    </tr>\n",
       "  </tbody>\n",
       "</table>\n",
       "</div>"
      ],
      "text/plain": [
       "Surge_Pricing_Type      1      2      3\n",
       "Type_of_Cab                            \n",
       "A                   14916   2258   4395\n",
       "B                    4918  23852   2366\n",
       "C                    1037  17290   9795\n",
       "D                    1065   2511  15415\n",
       "E                    1073   2172   8389"
      ]
     },
     "execution_count": 30,
     "metadata": {},
     "output_type": "execute_result"
    }
   ],
   "source": [
    "pd.crosstab(data.Type_of_Cab, data.Surge_Pricing_Type)"
   ]
  },
  {
   "cell_type": "code",
   "execution_count": 31,
   "metadata": {},
   "outputs": [
    {
     "data": {
      "text/plain": [
       "<matplotlib.axes._subplots.AxesSubplot at 0x7fe7f6589908>"
      ]
     },
     "execution_count": 31,
     "metadata": {},
     "output_type": "execute_result"
    },
    {
     "data": {
      "image/png": "[encoded data removed]",
      "text/plain": [
       "<Figure size 432x288 with 1 Axes>"
      ]
     },
     "metadata": {},
     "output_type": "display_data"
    }
   ],
   "source": [
    "Gender_pricing = pd.crosstab(data['Gender'], data.Surge_Pricing_Type)\n",
    "\n",
    "Gender_pricing.div(Gender_pricing.sum(1).astype(float), axis=0).plot(kind=\"bar\", stacked=True)"
   ]
  },
  {
   "cell_type": "code",
   "execution_count": 32,
   "metadata": {},
   "outputs": [
    {
     "data": {
      "text/plain": [
       "<matplotlib.axes._subplots.AxesSubplot at 0x7fe7f63fdeb8>"
      ]
     },
     "execution_count": 32,
     "metadata": {},
     "output_type": "execute_result"
    },
    {
     "data": {
      "image/png": "[encoded data removed]",
      "text/plain": [
       "<Figure size 432x288 with 1 Axes>"
      ]
     },
     "metadata": {},
     "output_type": "display_data"
    }
   ],
   "source": [
    "Type_of_Cab_pricing = pd.crosstab(data['Type_of_Cab'], data.Surge_Pricing_Type)\n",
    "\n",
    "Type_of_Cab_pricing.div(Type_of_Cab_pricing.sum(1).astype(float), axis=0).plot(kind=\"bar\", stacked=True)"
   ]
  },
  {
   "cell_type": "code",
   "execution_count": 33,
   "metadata": {},
   "outputs": [
    {
     "data": {
      "text/plain": [
       "<matplotlib.axes._subplots.AxesSubplot at 0x7fe7f637b668>"
      ]
     },
     "execution_count": 33,
     "metadata": {},
     "output_type": "execute_result"
    },
    {
     "data": {
      "image/png": "[encoded data removed]",
      "text/plain": [
       "<Figure size 432x288 with 1 Axes>"
      ]
     },
     "metadata": {},
     "output_type": "display_data"
    }
   ],
   "source": [
    "Destination_Type_pricing = pd.crosstab(data.Destination_Type, data.Surge_Pricing_Type)\n",
    "\n",
    "Destination_Type_pricing.div(Destination_Type_pricing.sum(1).astype(float), axis=0).plot(kind=\"bar\", stacked=True)"
   ]
  },
  {
   "cell_type": "code",
   "execution_count": 34,
   "metadata": {},
   "outputs": [],
   "source": [
    "# sns.boxplot(data.Customer_Rating, data.Surge_Pricing_Type)\n"
   ]
  },
  {
   "cell_type": "code",
   "execution_count": 35,
   "metadata": {},
   "outputs": [],
   "source": [
    "# data = data.sample(n=20000, weights='Surge_Pricing_Type', random_state=1).reset_index(drop=True)"
   ]
  },
  {
   "cell_type": "code",
   "execution_count": 36,
   "metadata": {},
   "outputs": [
    {
     "data": {
      "image/png": "[encoded data removed]",
      "text/plain": [
       "<Figure size 432x288 with 1 Axes>"
      ]
     },
     "metadata": {},
     "output_type": "display_data"
    },
    {
     "data": {
      "image/png": "[encoded data removed]",
      "text/plain": [
       "<Figure size 432x288 with 1 Axes>"
      ]
     },
     "metadata": {},
     "output_type": "display_data"
    },
    {
     "data": {
      "image/png": "[encoded data removed]",
      "text/plain": [
       "<Figure size 432x288 with 1 Axes>"
      ]
     },
     "metadata": {},
     "output_type": "display_data"
    }
   ],
   "source": [
    "sns.boxplot(data[(data.Customer_Rating.isna()==False) & (data.Surge_Pricing_Type==1)]['Customer_Rating'])\n",
    "plt.show()\n",
    "sns.boxplot(data[(data.Customer_Rating.isna()==False) & (data.Surge_Pricing_Type==2)]['Customer_Rating'])\n",
    "plt.show()\n",
    "sns.boxplot(data[(data.Customer_Rating.isna()==False) & (data.Surge_Pricing_Type==3)]['Customer_Rating'])\n",
    "plt.show()"
   ]
  },
  {
   "cell_type": "code",
   "execution_count": 37,
   "metadata": {},
   "outputs": [
    {
     "name": "stderr",
     "output_type": "stream",
     "text": [
      "/home/vignesh/.local/lib/python3.6/site-packages/matplotlib/axes/_axes.py:6521: MatplotlibDeprecationWarning: \n",
      "The 'normed' kwarg was deprecated in Matplotlib 2.1 and will be removed in 3.1. Use 'density' instead.\n",
      "  alternative=\"'density'\", removal=\"3.1\")\n"
     ]
    },
    {
     "data": {
      "text/plain": [
       "<matplotlib.axes._subplots.AxesSubplot at 0x7fe7f6269b70>"
      ]
     },
     "execution_count": 37,
     "metadata": {},
     "output_type": "execute_result"
    },
    {
     "data": {
      "image/png": "[encoded data removed]",
      "text/plain": [
       "<Figure size 432x288 with 1 Axes>"
      ]
     },
     "metadata": {},
     "output_type": "display_data"
    }
   ],
   "source": [
    "sns.distplot(data[~data.Customer_Since_Months.isna()].Customer_Since_Months)"
   ]
  },
  {
   "cell_type": "code",
   "execution_count": 38,
   "metadata": {},
   "outputs": [
    {
     "data": {
      "text/plain": [
       "Surge_Pricing_Type\n",
       "1    1147\n",
       "2    2540\n",
       "3    2233\n",
       "dtype: int64"
      ]
     },
     "execution_count": 38,
     "metadata": {},
     "output_type": "execute_result"
    }
   ],
   "source": [
    "data[data.Customer_Since_Months.isna()].groupby(['Surge_Pricing_Type']).size()"
   ]
  },
  {
   "cell_type": "code",
   "execution_count": 39,
   "metadata": {},
   "outputs": [
    {
     "data": {
      "text/plain": [
       "Surge_Pricing_Type\n",
       "1    4176\n",
       "2    8637\n",
       "3    7380\n",
       "dtype: int64"
      ]
     },
     "execution_count": 39,
     "metadata": {},
     "output_type": "execute_result"
    }
   ],
   "source": [
    "data[data.Life_Style_Index.isna()].groupby(['Surge_Pricing_Type']).size()"
   ]
  },
  {
   "cell_type": "code",
   "execution_count": 40,
   "metadata": {},
   "outputs": [
    {
     "data": {
      "text/plain": [
       "Surge_Pricing_Type\n",
       "1    4205\n",
       "2    8645\n",
       "3    7360\n",
       "dtype: int64"
      ]
     },
     "execution_count": 40,
     "metadata": {},
     "output_type": "execute_result"
    }
   ],
   "source": [
    "data[data.Type_of_Cab.isna()].groupby(['Surge_Pricing_Type']).size()"
   ]
  },
  {
   "cell_type": "code",
   "execution_count": null,
   "metadata": {},
   "outputs": [],
   "source": []
  },
  {
   "cell_type": "code",
   "execution_count": 146,
   "metadata": {},
   "outputs": [],
   "source": [
    "from sklearn.preprocessing import LabelEncoder, OneHotEncoder, MinMaxScaler, OrdinalEncoder\n",
    "from sklearn.compose import ColumnTransformer\n",
    "from sklearn.pipeline import Pipeline\n",
    "from sklearn.preprocessing import OneHotEncoder\n",
    "from sklearn.preprocessing import MinMaxScaler\n",
    "from sklearn.svm import SVR\n",
    "from sklearn.linear_model import LogisticRegression, LinearRegression\n",
    "from sklearn.impute import SimpleImputer\n",
    "from sklearn.ensemble import RandomForestClassifier, GradientBoostingClassifier, RandomForestRegressor\n"
   ]
  },
  {
   "cell_type": "code",
   "execution_count": 147,
   "metadata": {},
   "outputs": [],
   "source": [
    "data = pd.read_csv('train_Wc8LBpr.csv')"
   ]
  },
  {
   "cell_type": "code",
   "execution_count": 148,
   "metadata": {},
   "outputs": [
    {
     "data": {
      "text/plain": [
       "674"
      ]
     },
     "execution_count": 148,
     "metadata": {},
     "output_type": "execute_result"
    }
   ],
   "source": [
    "len(data[(data.Life_Style_Index<2.1) | (data.Life_Style_Index>3.5)])"
   ]
  },
  {
   "cell_type": "code",
   "execution_count": 149,
   "metadata": {},
   "outputs": [],
   "source": [
    "data = data[(data.Life_Style_Index.isna()) | (data.Life_Style_Index>2.1) & (data.Life_Style_Index<3.5)]"
   ]
  },
  {
   "cell_type": "code",
   "execution_count": 150,
   "metadata": {},
   "outputs": [
    {
     "data": {
      "text/plain": [
       "Index(['Trip_ID', 'Trip_Distance', 'Type_of_Cab', 'Customer_Since_Months',\n",
       "       'Life_Style_Index', 'Confidence_Life_Style_Index', 'Destination_Type',\n",
       "       'Customer_Rating', 'Cancellation_Last_1Month', 'Var1', 'Var2', 'Var3',\n",
       "       'Gender', 'Surge_Pricing_Type'],\n",
       "      dtype='object')"
      ]
     },
     "execution_count": 150,
     "metadata": {},
     "output_type": "execute_result"
    }
   ],
   "source": [
    "data.columns"
   ]
  },
  {
   "cell_type": "code",
   "execution_count": 151,
   "metadata": {},
   "outputs": [],
   "source": [
    "# X, y = data.drop(['Surge_Pricing_Type', 'Confidence_Life_Style_Index', 'Trip_ID', 'Var1'], axis=1), data['Surge_Pricing_Type']"
   ]
  },
  {
   "cell_type": "code",
   "execution_count": null,
   "metadata": {},
   "outputs": [],
   "source": []
  },
  {
   "cell_type": "code",
   "execution_count": 152,
   "metadata": {},
   "outputs": [],
   "source": [
    "life_style_non_missing = data[~data.Life_Style_Index.isna()]\n",
    "life_style_missing = data[data.Life_Style_Index.isna()]\n",
    "life_style_non_missing_x = life_style_non_missing[['Trip_Distance', 'Var2', 'Var3']]\n",
    "life_style_non_missing_y = life_style_non_missing['Life_Style_Index']\n",
    "\n",
    "life_style_missing_x = life_style_missing[['Trip_Distance', 'Var2', 'Var3']]\n"
   ]
  },
  {
   "cell_type": "code",
   "execution_count": 153,
   "metadata": {},
   "outputs": [],
   "source": [
    "linear_model = RandomForestRegressor()"
   ]
  },
  {
   "cell_type": "code",
   "execution_count": 154,
   "metadata": {},
   "outputs": [
    {
     "data": {
      "text/plain": [
       "RandomForestRegressor()"
      ]
     },
     "execution_count": 154,
     "metadata": {},
     "output_type": "execute_result"
    }
   ],
   "source": [
    "linear_model.fit(life_style_non_missing_x, life_style_non_missing_y)"
   ]
  },
  {
   "cell_type": "code",
   "execution_count": 155,
   "metadata": {},
   "outputs": [
    {
     "name": "stderr",
     "output_type": "stream",
     "text": [
      "/home/vignesh/anaconda3/lib/python3.6/site-packages/ipykernel_launcher.py:1: SettingWithCopyWarning: \n",
      "A value is trying to be set on a copy of a slice from a DataFrame.\n",
      "Try using .loc[row_indexer,col_indexer] = value instead\n",
      "\n",
      "See the caveats in the documentation: http://pandas.pydata.org/pandas-docs/stable/indexing.html#indexing-view-versus-copy\n",
      "  \"\"\"Entry point for launching an IPython kernel.\n"
     ]
    }
   ],
   "source": [
    "life_style_missing['Life_Style_Index'] = linear_model.predict(life_style_missing_x)"
   ]
  },
  {
   "cell_type": "code",
   "execution_count": 213,
   "metadata": {},
   "outputs": [],
   "source": [
    "data = life_style_non_missing.append(life_style_missing)"
   ]
  },
  {
   "cell_type": "code",
   "execution_count": 214,
   "metadata": {},
   "outputs": [
    {
     "data": {
      "text/html": [
       "<div>\n",
       "<style scoped>\n",
       "    .dataframe tbody tr th:only-of-type {\n",
       "        vertical-align: middle;\n",
       "    }\n",
       "\n",
       "    .dataframe tbody tr th {\n",
       "        vertical-align: top;\n",
       "    }\n",
       "\n",
       "    .dataframe thead th {\n",
       "        text-align: right;\n",
       "    }\n",
       "</style>\n",
       "<table border=\"1\" class=\"dataframe\">\n",
       "  <thead>\n",
       "    <tr style=\"text-align: right;\">\n",
       "      <th></th>\n",
       "      <th>Trip_ID</th>\n",
       "      <th>Trip_Distance</th>\n",
       "      <th>Type_of_Cab</th>\n",
       "      <th>Customer_Since_Months</th>\n",
       "      <th>Life_Style_Index</th>\n",
       "      <th>Confidence_Life_Style_Index</th>\n",
       "      <th>Destination_Type</th>\n",
       "      <th>Customer_Rating</th>\n",
       "      <th>Cancellation_Last_1Month</th>\n",
       "      <th>Var1</th>\n",
       "      <th>Var2</th>\n",
       "      <th>Var3</th>\n",
       "      <th>Gender</th>\n",
       "      <th>Surge_Pricing_Type</th>\n",
       "    </tr>\n",
       "  </thead>\n",
       "  <tbody>\n",
       "    <tr>\n",
       "      <th>0</th>\n",
       "      <td>T0005689460</td>\n",
       "      <td>6.77</td>\n",
       "      <td>B</td>\n",
       "      <td>1.0</td>\n",
       "      <td>2.42769</td>\n",
       "      <td>A</td>\n",
       "      <td>A</td>\n",
       "      <td>3.90500</td>\n",
       "      <td>0</td>\n",
       "      <td>40.0</td>\n",
       "      <td>46</td>\n",
       "      <td>60</td>\n",
       "      <td>Female</td>\n",
       "      <td>2</td>\n",
       "    </tr>\n",
       "    <tr>\n",
       "      <th>1</th>\n",
       "      <td>T0005689461</td>\n",
       "      <td>29.47</td>\n",
       "      <td>B</td>\n",
       "      <td>10.0</td>\n",
       "      <td>2.78245</td>\n",
       "      <td>B</td>\n",
       "      <td>A</td>\n",
       "      <td>3.45000</td>\n",
       "      <td>0</td>\n",
       "      <td>38.0</td>\n",
       "      <td>56</td>\n",
       "      <td>78</td>\n",
       "      <td>Male</td>\n",
       "      <td>2</td>\n",
       "    </tr>\n",
       "    <tr>\n",
       "      <th>4</th>\n",
       "      <td>T0005689467</td>\n",
       "      <td>54.95</td>\n",
       "      <td>C</td>\n",
       "      <td>10.0</td>\n",
       "      <td>3.03453</td>\n",
       "      <td>B</td>\n",
       "      <td>A</td>\n",
       "      <td>3.40250</td>\n",
       "      <td>4</td>\n",
       "      <td>51.0</td>\n",
       "      <td>49</td>\n",
       "      <td>102</td>\n",
       "      <td>Male</td>\n",
       "      <td>2</td>\n",
       "    </tr>\n",
       "    <tr>\n",
       "      <th>6</th>\n",
       "      <td>T0005689470</td>\n",
       "      <td>29.72</td>\n",
       "      <td>E</td>\n",
       "      <td>10.0</td>\n",
       "      <td>2.83958</td>\n",
       "      <td>C</td>\n",
       "      <td>B</td>\n",
       "      <td>2.97500</td>\n",
       "      <td>1</td>\n",
       "      <td>83.0</td>\n",
       "      <td>50</td>\n",
       "      <td>75</td>\n",
       "      <td>Male</td>\n",
       "      <td>2</td>\n",
       "    </tr>\n",
       "    <tr>\n",
       "      <th>7</th>\n",
       "      <td>T0005689472</td>\n",
       "      <td>18.44</td>\n",
       "      <td>B</td>\n",
       "      <td>2.0</td>\n",
       "      <td>2.81871</td>\n",
       "      <td>B</td>\n",
       "      <td>A</td>\n",
       "      <td>3.58250</td>\n",
       "      <td>0</td>\n",
       "      <td>103.0</td>\n",
       "      <td>46</td>\n",
       "      <td>63</td>\n",
       "      <td>Male</td>\n",
       "      <td>2</td>\n",
       "    </tr>\n",
       "    <tr>\n",
       "      <th>9</th>\n",
       "      <td>T0005689474</td>\n",
       "      <td>107.19</td>\n",
       "      <td>D</td>\n",
       "      <td>5.0</td>\n",
       "      <td>3.04467</td>\n",
       "      <td>B</td>\n",
       "      <td>A</td>\n",
       "      <td>2.44375</td>\n",
       "      <td>1</td>\n",
       "      <td>NaN</td>\n",
       "      <td>58</td>\n",
       "      <td>83</td>\n",
       "      <td>Male</td>\n",
       "      <td>3</td>\n",
       "    </tr>\n",
       "    <tr>\n",
       "      <th>10</th>\n",
       "      <td>T0005689475</td>\n",
       "      <td>46.07</td>\n",
       "      <td>D</td>\n",
       "      <td>10.0</td>\n",
       "      <td>2.95887</td>\n",
       "      <td>C</td>\n",
       "      <td>B</td>\n",
       "      <td>2.49125</td>\n",
       "      <td>2</td>\n",
       "      <td>89.0</td>\n",
       "      <td>48</td>\n",
       "      <td>69</td>\n",
       "      <td>Female</td>\n",
       "      <td>2</td>\n",
       "    </tr>\n",
       "    <tr>\n",
       "      <th>11</th>\n",
       "      <td>T0005689477</td>\n",
       "      <td>90.93</td>\n",
       "      <td>NaN</td>\n",
       "      <td>0.0</td>\n",
       "      <td>2.95327</td>\n",
       "      <td>C</td>\n",
       "      <td>C</td>\n",
       "      <td>2.93500</td>\n",
       "      <td>1</td>\n",
       "      <td>NaN</td>\n",
       "      <td>46</td>\n",
       "      <td>63</td>\n",
       "      <td>Male</td>\n",
       "      <td>2</td>\n",
       "    </tr>\n",
       "    <tr>\n",
       "      <th>12</th>\n",
       "      <td>T0005689479</td>\n",
       "      <td>39.73</td>\n",
       "      <td>B</td>\n",
       "      <td>10.0</td>\n",
       "      <td>2.84870</td>\n",
       "      <td>C</td>\n",
       "      <td>B</td>\n",
       "      <td>3.12875</td>\n",
       "      <td>2</td>\n",
       "      <td>71.0</td>\n",
       "      <td>47</td>\n",
       "      <td>76</td>\n",
       "      <td>Male</td>\n",
       "      <td>2</td>\n",
       "    </tr>\n",
       "    <tr>\n",
       "      <th>13</th>\n",
       "      <td>T0005689482</td>\n",
       "      <td>31.16</td>\n",
       "      <td>B</td>\n",
       "      <td>NaN</td>\n",
       "      <td>2.69170</td>\n",
       "      <td>B</td>\n",
       "      <td>A</td>\n",
       "      <td>2.14750</td>\n",
       "      <td>0</td>\n",
       "      <td>NaN</td>\n",
       "      <td>53</td>\n",
       "      <td>90</td>\n",
       "      <td>Female</td>\n",
       "      <td>1</td>\n",
       "    </tr>\n",
       "  </tbody>\n",
       "</table>\n",
       "</div>"
      ],
      "text/plain": [
       "        Trip_ID  Trip_Distance Type_of_Cab  Customer_Since_Months  \\\n",
       "0   T0005689460           6.77           B                    1.0   \n",
       "1   T0005689461          29.47           B                   10.0   \n",
       "4   T0005689467          54.95           C                   10.0   \n",
       "6   T0005689470          29.72           E                   10.0   \n",
       "7   T0005689472          18.44           B                    2.0   \n",
       "9   T0005689474         107.19           D                    5.0   \n",
       "10  T0005689475          46.07           D                   10.0   \n",
       "11  T0005689477          90.93         NaN                    0.0   \n",
       "12  T0005689479          39.73           B                   10.0   \n",
       "13  T0005689482          31.16           B                    NaN   \n",
       "\n",
       "    Life_Style_Index Confidence_Life_Style_Index Destination_Type  \\\n",
       "0            2.42769                           A                A   \n",
       "1            2.78245                           B                A   \n",
       "4            3.03453                           B                A   \n",
       "6            2.83958                           C                B   \n",
       "7            2.81871                           B                A   \n",
       "9            3.04467                           B                A   \n",
       "10           2.95887                           C                B   \n",
       "11           2.95327                           C                C   \n",
       "12           2.84870                           C                B   \n",
       "13           2.69170                           B                A   \n",
       "\n",
       "    Customer_Rating  Cancellation_Last_1Month   Var1  Var2  Var3  Gender  \\\n",
       "0           3.90500                         0   40.0    46    60  Female   \n",
       "1           3.45000                         0   38.0    56    78    Male   \n",
       "4           3.40250                         4   51.0    49   102    Male   \n",
       "6           2.97500                         1   83.0    50    75    Male   \n",
       "7           3.58250                         0  103.0    46    63    Male   \n",
       "9           2.44375                         1    NaN    58    83    Male   \n",
       "10          2.49125                         2   89.0    48    69  Female   \n",
       "11          2.93500                         1    NaN    46    63    Male   \n",
       "12          3.12875                         2   71.0    47    76    Male   \n",
       "13          2.14750                         0    NaN    53    90  Female   \n",
       "\n",
       "    Surge_Pricing_Type  \n",
       "0                    2  \n",
       "1                    2  \n",
       "4                    2  \n",
       "6                    2  \n",
       "7                    2  \n",
       "9                    3  \n",
       "10                   2  \n",
       "11                   2  \n",
       "12                   2  \n",
       "13                   1  "
      ]
     },
     "execution_count": 214,
     "metadata": {},
     "output_type": "execute_result"
    }
   ],
   "source": [
    "data[0:10]"
   ]
  },
  {
   "cell_type": "code",
   "execution_count": null,
   "metadata": {},
   "outputs": [],
   "source": []
  },
  {
   "cell_type": "code",
   "execution_count": 187,
   "metadata": {},
   "outputs": [],
   "source": [
    "def cab_to_float(x):\n",
    "    \n",
    "    if x=='A': return 1.0\n",
    "    elif x=='B': return 2.0\n",
    "    elif x=='C': return 3.0\n",
    "    elif x=='D': return 4.0\n",
    "    elif x=='E': return 5.0\n",
    "    \n",
    "def float_to_cab(x):\n",
    "    \n",
    "    if x==1.0: return 'A'\n",
    "    elif x==2.0: return 'B'\n",
    "    elif x==3.0: return 'C'\n",
    "    elif x==4.0: return 'D'\n",
    "    elif x==5.0: return 'E'"
   ]
  },
  {
   "cell_type": "code",
   "execution_count": 215,
   "metadata": {},
   "outputs": [],
   "source": [
    "data['Type_of_Cab'] = data['Type_of_Cab'].apply(cab_to_float)"
   ]
  },
  {
   "cell_type": "code",
   "execution_count": 216,
   "metadata": {},
   "outputs": [],
   "source": [
    "type_of_cab_non_missing = data[~data.Type_of_Cab.isna()]\n",
    "type_of_cab_missing = data[data.Type_of_Cab.isna()]\n",
    "type_of_cab_non_missing_x = type_of_cab_non_missing[['Trip_Distance', 'Life_Style_Index', 'Var2', 'Var3']]\n",
    "type_of_cab_non_missing_y = type_of_cab_non_missing['Type_of_Cab']\n",
    "\n",
    "type_of_cab_missing_x = type_of_cab_missing[['Trip_Distance', 'Life_Style_Index', 'Var2', 'Var3']]\n"
   ]
  },
  {
   "cell_type": "code",
   "execution_count": 217,
   "metadata": {},
   "outputs": [],
   "source": [
    "logistic_model_cab_missing = RandomForestClassifier()"
   ]
  },
  {
   "cell_type": "code",
   "execution_count": 218,
   "metadata": {},
   "outputs": [
    {
     "data": {
      "text/plain": [
       "RandomForestClassifier()"
      ]
     },
     "execution_count": 218,
     "metadata": {},
     "output_type": "execute_result"
    }
   ],
   "source": [
    "logistic_model_cab_missing.fit(type_of_cab_non_missing_x, type_of_cab_non_missing_y)"
   ]
  },
  {
   "cell_type": "code",
   "execution_count": 192,
   "metadata": {},
   "outputs": [
    {
     "data": {
      "text/plain": [
       "20103"
      ]
     },
     "execution_count": 192,
     "metadata": {},
     "output_type": "execute_result"
    }
   ],
   "source": [
    "len(type_of_cab_missing_x)"
   ]
  },
  {
   "cell_type": "code",
   "execution_count": 219,
   "metadata": {},
   "outputs": [
    {
     "name": "stderr",
     "output_type": "stream",
     "text": [
      "/home/vignesh/anaconda3/lib/python3.6/site-packages/ipykernel_launcher.py:1: SettingWithCopyWarning: \n",
      "A value is trying to be set on a copy of a slice from a DataFrame.\n",
      "Try using .loc[row_indexer,col_indexer] = value instead\n",
      "\n",
      "See the caveats in the documentation: http://pandas.pydata.org/pandas-docs/stable/indexing.html#indexing-view-versus-copy\n",
      "  \"\"\"Entry point for launching an IPython kernel.\n"
     ]
    }
   ],
   "source": [
    "type_of_cab_missing['Type_of_Cab'] = logistic_model_cab_missing.predict(type_of_cab_missing_x)"
   ]
  },
  {
   "cell_type": "code",
   "execution_count": 220,
   "metadata": {},
   "outputs": [],
   "source": [
    "data = type_of_cab_missing.append(type_of_cab_non_missing)"
   ]
  },
  {
   "cell_type": "code",
   "execution_count": 221,
   "metadata": {},
   "outputs": [],
   "source": [
    "data['Type_of_Cab'] = data.Type_of_Cab.apply(float_to_cab)"
   ]
  },
  {
   "cell_type": "code",
   "execution_count": null,
   "metadata": {},
   "outputs": [],
   "source": []
  },
  {
   "cell_type": "code",
   "execution_count": 167,
   "metadata": {},
   "outputs": [],
   "source": [
    "def lifestyle_index(x):\n",
    "    \n",
    "    if x<2.8: return 1.0\n",
    "    elif x>=2.8 and x<=3.25: return 2.0\n",
    "    elif x>3.25: return 3.0\n",
    "\n",
    "def custom_rating_index(x):\n",
    "    \n",
    "    if x<2.5: return 1.0\n",
    "    elif x>=2.5 and x<=4: return 2.0\n",
    "    elif x>4: return 3.0"
   ]
  },
  {
   "cell_type": "code",
   "execution_count": 168,
   "metadata": {},
   "outputs": [],
   "source": [
    "# data['Customer_Rating'] = data.Customer_Rating.apply(custom_rating_index)\n",
    "data['Life_Style_Index'] = data.Life_Style_Index.apply(lifestyle_index)"
   ]
  },
  {
   "cell_type": "code",
   "execution_count": null,
   "metadata": {},
   "outputs": [],
   "source": []
  },
  {
   "cell_type": "code",
   "execution_count": 222,
   "metadata": {},
   "outputs": [],
   "source": [
    "X, y = data.drop(['Surge_Pricing_Type', 'Confidence_Life_Style_Index', 'Trip_ID', 'Var1'], axis=1), data['Surge_Pricing_Type']"
   ]
  },
  {
   "cell_type": "code",
   "execution_count": 223,
   "metadata": {},
   "outputs": [
    {
     "data": {
      "text/html": [
       "<div>\n",
       "<style scoped>\n",
       "    .dataframe tbody tr th:only-of-type {\n",
       "        vertical-align: middle;\n",
       "    }\n",
       "\n",
       "    .dataframe tbody tr th {\n",
       "        vertical-align: top;\n",
       "    }\n",
       "\n",
       "    .dataframe thead th {\n",
       "        text-align: right;\n",
       "    }\n",
       "</style>\n",
       "<table border=\"1\" class=\"dataframe\">\n",
       "  <thead>\n",
       "    <tr style=\"text-align: right;\">\n",
       "      <th></th>\n",
       "      <th>Trip_Distance</th>\n",
       "      <th>Type_of_Cab</th>\n",
       "      <th>Customer_Since_Months</th>\n",
       "      <th>Life_Style_Index</th>\n",
       "      <th>Destination_Type</th>\n",
       "      <th>Customer_Rating</th>\n",
       "      <th>Cancellation_Last_1Month</th>\n",
       "      <th>Var2</th>\n",
       "      <th>Var3</th>\n",
       "      <th>Gender</th>\n",
       "    </tr>\n",
       "  </thead>\n",
       "  <tbody>\n",
       "    <tr>\n",
       "      <th>11</th>\n",
       "      <td>90.93</td>\n",
       "      <td>E</td>\n",
       "      <td>0.0</td>\n",
       "      <td>2.95327</td>\n",
       "      <td>C</td>\n",
       "      <td>2.93500</td>\n",
       "      <td>1</td>\n",
       "      <td>46</td>\n",
       "      <td>63</td>\n",
       "      <td>Male</td>\n",
       "    </tr>\n",
       "    <tr>\n",
       "      <th>15</th>\n",
       "      <td>14.18</td>\n",
       "      <td>A</td>\n",
       "      <td>1.0</td>\n",
       "      <td>2.16167</td>\n",
       "      <td>A</td>\n",
       "      <td>3.19750</td>\n",
       "      <td>1</td>\n",
       "      <td>46</td>\n",
       "      <td>57</td>\n",
       "      <td>Female</td>\n",
       "    </tr>\n",
       "    <tr>\n",
       "      <th>28</th>\n",
       "      <td>31.82</td>\n",
       "      <td>C</td>\n",
       "      <td>10.0</td>\n",
       "      <td>2.70044</td>\n",
       "      <td>B</td>\n",
       "      <td>3.15125</td>\n",
       "      <td>1</td>\n",
       "      <td>51</td>\n",
       "      <td>66</td>\n",
       "      <td>Male</td>\n",
       "    </tr>\n",
       "    <tr>\n",
       "      <th>32</th>\n",
       "      <td>18.34</td>\n",
       "      <td>C</td>\n",
       "      <td>4.0</td>\n",
       "      <td>2.59621</td>\n",
       "      <td>B</td>\n",
       "      <td>3.15875</td>\n",
       "      <td>0</td>\n",
       "      <td>53</td>\n",
       "      <td>72</td>\n",
       "      <td>Male</td>\n",
       "    </tr>\n",
       "    <tr>\n",
       "      <th>34</th>\n",
       "      <td>30.93</td>\n",
       "      <td>B</td>\n",
       "      <td>6.0</td>\n",
       "      <td>2.65609</td>\n",
       "      <td>B</td>\n",
       "      <td>2.55625</td>\n",
       "      <td>0</td>\n",
       "      <td>51</td>\n",
       "      <td>83</td>\n",
       "      <td>Male</td>\n",
       "    </tr>\n",
       "    <tr>\n",
       "      <th>40</th>\n",
       "      <td>78.25</td>\n",
       "      <td>C</td>\n",
       "      <td>8.0</td>\n",
       "      <td>2.77190</td>\n",
       "      <td>A</td>\n",
       "      <td>1.08875</td>\n",
       "      <td>0</td>\n",
       "      <td>48</td>\n",
       "      <td>76</td>\n",
       "      <td>Female</td>\n",
       "    </tr>\n",
       "    <tr>\n",
       "      <th>50</th>\n",
       "      <td>36.76</td>\n",
       "      <td>B</td>\n",
       "      <td>5.0</td>\n",
       "      <td>2.64466</td>\n",
       "      <td>A</td>\n",
       "      <td>2.46375</td>\n",
       "      <td>0</td>\n",
       "      <td>49</td>\n",
       "      <td>68</td>\n",
       "      <td>Male</td>\n",
       "    </tr>\n",
       "    <tr>\n",
       "      <th>56</th>\n",
       "      <td>43.17</td>\n",
       "      <td>E</td>\n",
       "      <td>9.0</td>\n",
       "      <td>2.55422</td>\n",
       "      <td>A</td>\n",
       "      <td>1.64125</td>\n",
       "      <td>3</td>\n",
       "      <td>55</td>\n",
       "      <td>72</td>\n",
       "      <td>Male</td>\n",
       "    </tr>\n",
       "    <tr>\n",
       "      <th>62</th>\n",
       "      <td>32.14</td>\n",
       "      <td>B</td>\n",
       "      <td>10.0</td>\n",
       "      <td>2.48150</td>\n",
       "      <td>A</td>\n",
       "      <td>2.32500</td>\n",
       "      <td>1</td>\n",
       "      <td>51</td>\n",
       "      <td>68</td>\n",
       "      <td>Female</td>\n",
       "    </tr>\n",
       "    <tr>\n",
       "      <th>76</th>\n",
       "      <td>8.22</td>\n",
       "      <td>B</td>\n",
       "      <td>10.0</td>\n",
       "      <td>2.90889</td>\n",
       "      <td>A</td>\n",
       "      <td>1.63750</td>\n",
       "      <td>2</td>\n",
       "      <td>54</td>\n",
       "      <td>89</td>\n",
       "      <td>Male</td>\n",
       "    </tr>\n",
       "  </tbody>\n",
       "</table>\n",
       "</div>"
      ],
      "text/plain": [
       "    Trip_Distance Type_of_Cab  Customer_Since_Months  Life_Style_Index  \\\n",
       "11          90.93           E                    0.0           2.95327   \n",
       "15          14.18           A                    1.0           2.16167   \n",
       "28          31.82           C                   10.0           2.70044   \n",
       "32          18.34           C                    4.0           2.59621   \n",
       "34          30.93           B                    6.0           2.65609   \n",
       "40          78.25           C                    8.0           2.77190   \n",
       "50          36.76           B                    5.0           2.64466   \n",
       "56          43.17           E                    9.0           2.55422   \n",
       "62          32.14           B                   10.0           2.48150   \n",
       "76           8.22           B                   10.0           2.90889   \n",
       "\n",
       "   Destination_Type  Customer_Rating  Cancellation_Last_1Month  Var2  Var3  \\\n",
       "11                C          2.93500                         1    46    63   \n",
       "15                A          3.19750                         1    46    57   \n",
       "28                B          3.15125                         1    51    66   \n",
       "32                B          3.15875                         0    53    72   \n",
       "34                B          2.55625                         0    51    83   \n",
       "40                A          1.08875                         0    48    76   \n",
       "50                A          2.46375                         0    49    68   \n",
       "56                A          1.64125                         3    55    72   \n",
       "62                A          2.32500                         1    51    68   \n",
       "76                A          1.63750                         2    54    89   \n",
       "\n",
       "    Gender  \n",
       "11    Male  \n",
       "15  Female  \n",
       "28    Male  \n",
       "32    Male  \n",
       "34    Male  \n",
       "40  Female  \n",
       "50    Male  \n",
       "56    Male  \n",
       "62  Female  \n",
       "76    Male  "
      ]
     },
     "execution_count": 223,
     "metadata": {},
     "output_type": "execute_result"
    }
   ],
   "source": [
    "X[0:10]"
   ]
  },
  {
   "cell_type": "code",
   "execution_count": 224,
   "metadata": {},
   "outputs": [],
   "source": [
    "\n",
    "\n",
    "categorical_ix = X.select_dtypes(include=['object', 'bool']).columns\n",
    "numerical_ix = X.select_dtypes(include=['int64', 'float64']).columns\n",
    "\n"
   ]
  },
  {
   "cell_type": "code",
   "execution_count": 225,
   "metadata": {},
   "outputs": [],
   "source": [
    "categorical_features = Pipeline(steps=[('cat_imp', SimpleImputer(strategy='most_frequent')),\n",
    "                                      ('cat', OrdinalEncoder())])\n"
   ]
  },
  {
   "cell_type": "code",
   "execution_count": 226,
   "metadata": {},
   "outputs": [],
   "source": [
    "numeric_features = Pipeline(steps=[('num_imp', SimpleImputer(strategy='median')),\n",
    "                                   ('num', MinMaxScaler())])"
   ]
  },
  {
   "cell_type": "code",
   "execution_count": 227,
   "metadata": {},
   "outputs": [],
   "source": [
    "preprocessor = ColumnTransformer(\n",
    "    transformers=[\n",
    "        ('num', numeric_features, numerical_ix),\n",
    "        ('cat', categorical_features, categorical_ix)])"
   ]
  },
  {
   "cell_type": "code",
   "execution_count": 228,
   "metadata": {},
   "outputs": [],
   "source": [
    "clf = Pipeline(steps=[('preprocessor', preprocessor),\n",
    "                      ('classifier', GradientBoostingClassifier())])"
   ]
  },
  {
   "cell_type": "code",
   "execution_count": 229,
   "metadata": {},
   "outputs": [
    {
     "data": {
      "text/plain": [
       "Pipeline(steps=[('preprocessor',\n",
       "                 ColumnTransformer(transformers=[('num',\n",
       "                                                  Pipeline(steps=[('num_imp',\n",
       "                                                                   SimpleImputer(strategy='median')),\n",
       "                                                                  ('num',\n",
       "                                                                   MinMaxScaler())]),\n",
       "                                                  Index(['Trip_Distance', 'Customer_Since_Months', 'Life_Style_Index',\n",
       "       'Customer_Rating', 'Cancellation_Last_1Month', 'Var2', 'Var3'],\n",
       "      dtype='object')),\n",
       "                                                 ('cat',\n",
       "                                                  Pipeline(steps=[('cat_imp',\n",
       "                                                                   SimpleImputer(strategy='most_frequent')),\n",
       "                                                                  ('cat',\n",
       "                                                                   OrdinalEncoder())]),\n",
       "                                                  Index(['Type_of_Cab', 'Destination_Type', 'Gender'], dtype='object'))])),\n",
       "                ('classifier', GradientBoostingClassifier())])"
      ]
     },
     "execution_count": 229,
     "metadata": {},
     "output_type": "execute_result"
    }
   ],
   "source": [
    "clf.fit(X,y)"
   ]
  },
  {
   "cell_type": "code",
   "execution_count": null,
   "metadata": {},
   "outputs": [],
   "source": []
  },
  {
   "cell_type": "code",
   "execution_count": 69,
   "metadata": {},
   "outputs": [],
   "source": [
    "preprocessor_no_ml = ColumnTransformer(\n",
    "    transformers=[\n",
    "        ('num', numeric_features, numerical_ix),\n",
    "        ('cat', categorical_features, categorical_ix)])"
   ]
  },
  {
   "cell_type": "code",
   "execution_count": 70,
   "metadata": {},
   "outputs": [],
   "source": [
    "clf_no_ml = Pipeline(steps=[('preprocessor', preprocessor_no_ml)])"
   ]
  },
  {
   "cell_type": "code",
   "execution_count": 71,
   "metadata": {},
   "outputs": [
    {
     "data": {
      "text/plain": [
       "Pipeline(steps=[('preprocessor',\n",
       "                 ColumnTransformer(transformers=[('num',\n",
       "                                                  Pipeline(steps=[('num_imp',\n",
       "                                                                   SimpleImputer(strategy='median')),\n",
       "                                                                  ('num',\n",
       "                                                                   MinMaxScaler())]),\n",
       "                                                  Index(['Trip_Distance', 'Customer_Since_Months', 'Life_Style_Index',\n",
       "       'Customer_Rating', 'Cancellation_Last_1Month', 'Var2', 'Var3'],\n",
       "      dtype='object')),\n",
       "                                                 ('cat',\n",
       "                                                  Pipeline(steps=[('cat_imp',\n",
       "                                                                   SimpleImputer(strategy='most_frequent')),\n",
       "                                                                  ('cat',\n",
       "                                                                   OrdinalEncoder())]),\n",
       "                                                  Index(['Type_of_Cab', 'Destination_Type', 'Gender'], dtype='object'))]))])"
      ]
     },
     "execution_count": 71,
     "metadata": {},
     "output_type": "execute_result"
    }
   ],
   "source": [
    "clf_no_ml.fit(X,y)"
   ]
  },
  {
   "cell_type": "code",
   "execution_count": 72,
   "metadata": {},
   "outputs": [],
   "source": [
    "clf_no_ml_train = clf_no_ml.transform(X)"
   ]
  },
  {
   "cell_type": "code",
   "execution_count": 73,
   "metadata": {},
   "outputs": [
    {
     "data": {
      "text/plain": [
       "Index(['Type_of_Cab', 'Destination_Type', 'Gender'], dtype='object')"
      ]
     },
     "execution_count": 73,
     "metadata": {},
     "output_type": "execute_result"
    }
   ],
   "source": [
    "categorical_ix"
   ]
  },
  {
   "cell_type": "code",
   "execution_count": 74,
   "metadata": {},
   "outputs": [],
   "source": [
    "columns = ['Trip_Distance', 'Type_of_Cab', 'Customer_Since_Months',\n",
    "       'Life_Style_Index', 'Destination_Type', 'Customer_Rating',\n",
    "       'Cancellation_Last_1Month', 'Var2', 'Var3', 'Gender']\n",
    "\n",
    "categorical_columns = ['Type_of_Cab', 'Destination_Type', 'Gender']"
   ]
  },
  {
   "cell_type": "code",
   "execution_count": 75,
   "metadata": {},
   "outputs": [
    {
     "data": {
      "text/plain": [
       "Index(['Type_of_Cab', 'Destination_Type', 'Gender'], dtype='object')"
      ]
     },
     "execution_count": 75,
     "metadata": {},
     "output_type": "execute_result"
    }
   ],
   "source": [
    "categorical_ix"
   ]
  },
  {
   "cell_type": "code",
   "execution_count": 76,
   "metadata": {},
   "outputs": [],
   "source": [
    "# train_data = np.append(clf_no_train, y.to_numpy().reshape(-1,1), axis=1)"
   ]
  },
  {
   "cell_type": "code",
   "execution_count": 77,
   "metadata": {},
   "outputs": [],
   "source": [
    "import lightgbm as lgb"
   ]
  },
  {
   "cell_type": "code",
   "execution_count": 84,
   "metadata": {},
   "outputs": [],
   "source": [
    "train_data_lgb = lgb.Dataset(pd.DataFrame(clf_no_ml_train, columns=columns), label=y-1, categorical_feature=categorical_columns\n",
    "                         )"
   ]
  },
  {
   "cell_type": "code",
   "execution_count": 85,
   "metadata": {},
   "outputs": [
    {
     "data": {
      "text/plain": [
       "<lightgbm.basic.Dataset at 0x7fe7efe799e8>"
      ]
     },
     "execution_count": 85,
     "metadata": {},
     "output_type": "execute_result"
    }
   ],
   "source": [
    "train_data_lgb"
   ]
  },
  {
   "cell_type": "code",
   "execution_count": 86,
   "metadata": {},
   "outputs": [],
   "source": [
    "param = {'num_leaves': 31, 'objective': 'multiclass', 'num_class':3}\n",
    "param['metric'] = 'multi_logloss'"
   ]
  },
  {
   "cell_type": "code",
   "execution_count": 87,
   "metadata": {},
   "outputs": [
    {
     "name": "stderr",
     "output_type": "stream",
     "text": [
      "/home/vignesh/anaconda3/lib/python3.6/site-packages/lightgbm/basic.py:1291: UserWarning: Using categorical_feature in Dataset.\n",
      "  warnings.warn('Using categorical_feature in Dataset.')\n"
     ]
    }
   ],
   "source": [
    "lgb_train_model = lgb.train(param,train_data_lgb, 10)"
   ]
  },
  {
   "cell_type": "code",
   "execution_count": 176,
   "metadata": {},
   "outputs": [],
   "source": [
    "from sklearn.model_selection import cross_val_score"
   ]
  },
  {
   "cell_type": "code",
   "execution_count": 177,
   "metadata": {},
   "outputs": [
    {
     "ename": "KeyboardInterrupt",
     "evalue": "",
     "output_type": "error",
     "traceback": [
      "\u001b[0;31m---------------------------------------------------------------------------\u001b[0m",
      "\u001b[0;31mKeyboardInterrupt\u001b[0m                         Traceback (most recent call last)",
      "\u001b[0;32m<ipython-input-177-837fd8072b6c>\u001b[0m in \u001b[0;36m<module>\u001b[0;34m()\u001b[0m\n\u001b[0;32m----> 1\u001b[0;31m \u001b[0mscores\u001b[0m \u001b[0;34m=\u001b[0m \u001b[0mcross_val_score\u001b[0m\u001b[0;34m(\u001b[0m\u001b[0mclf\u001b[0m\u001b[0;34m,\u001b[0m \u001b[0mX\u001b[0m\u001b[0;34m,\u001b[0m \u001b[0my\u001b[0m\u001b[0;34m,\u001b[0m \u001b[0mcv\u001b[0m\u001b[0;34m=\u001b[0m\u001b[0;36m5\u001b[0m\u001b[0;34m)\u001b[0m\u001b[0;34m\u001b[0m\u001b[0m\n\u001b[0m",
      "\u001b[0;32m~/anaconda3/lib/python3.6/site-packages/sklearn/utils/validation.py\u001b[0m in \u001b[0;36minner_f\u001b[0;34m(*args, **kwargs)\u001b[0m\n\u001b[1;32m     71\u001b[0m                           FutureWarning)\n\u001b[1;32m     72\u001b[0m         \u001b[0mkwargs\u001b[0m\u001b[0;34m.\u001b[0m\u001b[0mupdate\u001b[0m\u001b[0;34m(\u001b[0m\u001b[0;34m{\u001b[0m\u001b[0mk\u001b[0m\u001b[0;34m:\u001b[0m \u001b[0marg\u001b[0m \u001b[0;32mfor\u001b[0m \u001b[0mk\u001b[0m\u001b[0;34m,\u001b[0m \u001b[0marg\u001b[0m \u001b[0;32min\u001b[0m \u001b[0mzip\u001b[0m\u001b[0;34m(\u001b[0m\u001b[0msig\u001b[0m\u001b[0;34m.\u001b[0m\u001b[0mparameters\u001b[0m\u001b[0;34m,\u001b[0m \u001b[0margs\u001b[0m\u001b[0;34m)\u001b[0m\u001b[0;34m}\u001b[0m\u001b[0;34m)\u001b[0m\u001b[0;34m\u001b[0m\u001b[0m\n\u001b[0;32m---> 73\u001b[0;31m         \u001b[0;32mreturn\u001b[0m \u001b[0mf\u001b[0m\u001b[0;34m(\u001b[0m\u001b[0;34m**\u001b[0m\u001b[0mkwargs\u001b[0m\u001b[0;34m)\u001b[0m\u001b[0;34m\u001b[0m\u001b[0m\n\u001b[0m\u001b[1;32m     74\u001b[0m     \u001b[0;32mreturn\u001b[0m \u001b[0minner_f\u001b[0m\u001b[0;34m\u001b[0m\u001b[0m\n\u001b[1;32m     75\u001b[0m \u001b[0;34m\u001b[0m\u001b[0m\n",
      "\u001b[0;32m~/anaconda3/lib/python3.6/site-packages/sklearn/model_selection/_validation.py\u001b[0m in \u001b[0;36mcross_val_score\u001b[0;34m(estimator, X, y, groups, scoring, cv, n_jobs, verbose, fit_params, pre_dispatch, error_score)\u001b[0m\n\u001b[1;32m    404\u001b[0m                                 \u001b[0mfit_params\u001b[0m\u001b[0;34m=\u001b[0m\u001b[0mfit_params\u001b[0m\u001b[0;34m,\u001b[0m\u001b[0;34m\u001b[0m\u001b[0m\n\u001b[1;32m    405\u001b[0m                                 \u001b[0mpre_dispatch\u001b[0m\u001b[0;34m=\u001b[0m\u001b[0mpre_dispatch\u001b[0m\u001b[0;34m,\u001b[0m\u001b[0;34m\u001b[0m\u001b[0m\n\u001b[0;32m--> 406\u001b[0;31m                                 error_score=error_score)\n\u001b[0m\u001b[1;32m    407\u001b[0m     \u001b[0;32mreturn\u001b[0m \u001b[0mcv_results\u001b[0m\u001b[0;34m[\u001b[0m\u001b[0;34m'test_score'\u001b[0m\u001b[0;34m]\u001b[0m\u001b[0;34m\u001b[0m\u001b[0m\n\u001b[1;32m    408\u001b[0m \u001b[0;34m\u001b[0m\u001b[0m\n",
      "\u001b[0;32m~/anaconda3/lib/python3.6/site-packages/sklearn/utils/validation.py\u001b[0m in \u001b[0;36minner_f\u001b[0;34m(*args, **kwargs)\u001b[0m\n\u001b[1;32m     71\u001b[0m                           FutureWarning)\n\u001b[1;32m     72\u001b[0m         \u001b[0mkwargs\u001b[0m\u001b[0;34m.\u001b[0m\u001b[0mupdate\u001b[0m\u001b[0;34m(\u001b[0m\u001b[0;34m{\u001b[0m\u001b[0mk\u001b[0m\u001b[0;34m:\u001b[0m \u001b[0marg\u001b[0m \u001b[0;32mfor\u001b[0m \u001b[0mk\u001b[0m\u001b[0;34m,\u001b[0m \u001b[0marg\u001b[0m \u001b[0;32min\u001b[0m \u001b[0mzip\u001b[0m\u001b[0;34m(\u001b[0m\u001b[0msig\u001b[0m\u001b[0;34m.\u001b[0m\u001b[0mparameters\u001b[0m\u001b[0;34m,\u001b[0m \u001b[0margs\u001b[0m\u001b[0;34m)\u001b[0m\u001b[0;34m}\u001b[0m\u001b[0;34m)\u001b[0m\u001b[0;34m\u001b[0m\u001b[0m\n\u001b[0;32m---> 73\u001b[0;31m         \u001b[0;32mreturn\u001b[0m \u001b[0mf\u001b[0m\u001b[0;34m(\u001b[0m\u001b[0;34m**\u001b[0m\u001b[0mkwargs\u001b[0m\u001b[0;34m)\u001b[0m\u001b[0;34m\u001b[0m\u001b[0m\n\u001b[0m\u001b[1;32m     74\u001b[0m     \u001b[0;32mreturn\u001b[0m \u001b[0minner_f\u001b[0m\u001b[0;34m\u001b[0m\u001b[0m\n\u001b[1;32m     75\u001b[0m \u001b[0;34m\u001b[0m\u001b[0m\n",
      "\u001b[0;32m~/anaconda3/lib/python3.6/site-packages/sklearn/model_selection/_validation.py\u001b[0m in \u001b[0;36mcross_validate\u001b[0;34m(estimator, X, y, groups, scoring, cv, n_jobs, verbose, fit_params, pre_dispatch, return_train_score, return_estimator, error_score)\u001b[0m\n\u001b[1;32m    246\u001b[0m             \u001b[0mreturn_times\u001b[0m\u001b[0;34m=\u001b[0m\u001b[0;32mTrue\u001b[0m\u001b[0;34m,\u001b[0m \u001b[0mreturn_estimator\u001b[0m\u001b[0;34m=\u001b[0m\u001b[0mreturn_estimator\u001b[0m\u001b[0;34m,\u001b[0m\u001b[0;34m\u001b[0m\u001b[0m\n\u001b[1;32m    247\u001b[0m             error_score=error_score)\n\u001b[0;32m--> 248\u001b[0;31m         for train, test in cv.split(X, y, groups))\n\u001b[0m\u001b[1;32m    249\u001b[0m \u001b[0;34m\u001b[0m\u001b[0m\n\u001b[1;32m    250\u001b[0m     \u001b[0mzipped_scores\u001b[0m \u001b[0;34m=\u001b[0m \u001b[0mlist\u001b[0m\u001b[0;34m(\u001b[0m\u001b[0mzip\u001b[0m\u001b[0;34m(\u001b[0m\u001b[0;34m*\u001b[0m\u001b[0mscores\u001b[0m\u001b[0;34m)\u001b[0m\u001b[0;34m)\u001b[0m\u001b[0;34m\u001b[0m\u001b[0m\n",
      "\u001b[0;32m~/anaconda3/lib/python3.6/site-packages/joblib/parallel.py\u001b[0m in \u001b[0;36m__call__\u001b[0;34m(self, iterable)\u001b[0m\n\u001b[1;32m   1030\u001b[0m                 \u001b[0mself\u001b[0m\u001b[0;34m.\u001b[0m\u001b[0m_iterating\u001b[0m \u001b[0;34m=\u001b[0m \u001b[0mself\u001b[0m\u001b[0;34m.\u001b[0m\u001b[0m_original_iterator\u001b[0m \u001b[0;32mis\u001b[0m \u001b[0;32mnot\u001b[0m \u001b[0;32mNone\u001b[0m\u001b[0;34m\u001b[0m\u001b[0m\n\u001b[1;32m   1031\u001b[0m \u001b[0;34m\u001b[0m\u001b[0m\n\u001b[0;32m-> 1032\u001b[0;31m             \u001b[0;32mwhile\u001b[0m \u001b[0mself\u001b[0m\u001b[0;34m.\u001b[0m\u001b[0mdispatch_one_batch\u001b[0m\u001b[0;34m(\u001b[0m\u001b[0miterator\u001b[0m\u001b[0;34m)\u001b[0m\u001b[0;34m:\u001b[0m\u001b[0;34m\u001b[0m\u001b[0m\n\u001b[0m\u001b[1;32m   1033\u001b[0m                 \u001b[0;32mpass\u001b[0m\u001b[0;34m\u001b[0m\u001b[0m\n\u001b[1;32m   1034\u001b[0m \u001b[0;34m\u001b[0m\u001b[0m\n",
      "\u001b[0;32m~/anaconda3/lib/python3.6/site-packages/joblib/parallel.py\u001b[0m in \u001b[0;36mdispatch_one_batch\u001b[0;34m(self, iterator)\u001b[0m\n\u001b[1;32m    845\u001b[0m                 \u001b[0;32mreturn\u001b[0m \u001b[0;32mFalse\u001b[0m\u001b[0;34m\u001b[0m\u001b[0m\n\u001b[1;32m    846\u001b[0m             \u001b[0;32melse\u001b[0m\u001b[0;34m:\u001b[0m\u001b[0;34m\u001b[0m\u001b[0m\n\u001b[0;32m--> 847\u001b[0;31m                 \u001b[0mself\u001b[0m\u001b[0;34m.\u001b[0m\u001b[0m_dispatch\u001b[0m\u001b[0;34m(\u001b[0m\u001b[0mtasks\u001b[0m\u001b[0;34m)\u001b[0m\u001b[0;34m\u001b[0m\u001b[0m\n\u001b[0m\u001b[1;32m    848\u001b[0m                 \u001b[0;32mreturn\u001b[0m \u001b[0;32mTrue\u001b[0m\u001b[0;34m\u001b[0m\u001b[0m\n\u001b[1;32m    849\u001b[0m \u001b[0;34m\u001b[0m\u001b[0m\n",
      "\u001b[0;32m~/anaconda3/lib/python3.6/site-packages/joblib/parallel.py\u001b[0m in \u001b[0;36m_dispatch\u001b[0;34m(self, batch)\u001b[0m\n\u001b[1;32m    763\u001b[0m         \u001b[0;32mwith\u001b[0m \u001b[0mself\u001b[0m\u001b[0;34m.\u001b[0m\u001b[0m_lock\u001b[0m\u001b[0;34m:\u001b[0m\u001b[0;34m\u001b[0m\u001b[0m\n\u001b[1;32m    764\u001b[0m             \u001b[0mjob_idx\u001b[0m \u001b[0;34m=\u001b[0m \u001b[0mlen\u001b[0m\u001b[0;34m(\u001b[0m\u001b[0mself\u001b[0m\u001b[0;34m.\u001b[0m\u001b[0m_jobs\u001b[0m\u001b[0;34m)\u001b[0m\u001b[0;34m\u001b[0m\u001b[0m\n\u001b[0;32m--> 765\u001b[0;31m             \u001b[0mjob\u001b[0m \u001b[0;34m=\u001b[0m \u001b[0mself\u001b[0m\u001b[0;34m.\u001b[0m\u001b[0m_backend\u001b[0m\u001b[0;34m.\u001b[0m\u001b[0mapply_async\u001b[0m\u001b[0;34m(\u001b[0m\u001b[0mbatch\u001b[0m\u001b[0;34m,\u001b[0m \u001b[0mcallback\u001b[0m\u001b[0;34m=\u001b[0m\u001b[0mcb\u001b[0m\u001b[0;34m)\u001b[0m\u001b[0;34m\u001b[0m\u001b[0m\n\u001b[0m\u001b[1;32m    766\u001b[0m             \u001b[0;31m# A job can complete so quickly than its callback is\u001b[0m\u001b[0;34m\u001b[0m\u001b[0;34m\u001b[0m\u001b[0m\n\u001b[1;32m    767\u001b[0m             \u001b[0;31m# called before we get here, causing self._jobs to\u001b[0m\u001b[0;34m\u001b[0m\u001b[0;34m\u001b[0m\u001b[0m\n",
      "\u001b[0;32m~/anaconda3/lib/python3.6/site-packages/joblib/_parallel_backends.py\u001b[0m in \u001b[0;36mapply_async\u001b[0;34m(self, func, callback)\u001b[0m\n\u001b[1;32m    204\u001b[0m     \u001b[0;32mdef\u001b[0m \u001b[0mapply_async\u001b[0m\u001b[0;34m(\u001b[0m\u001b[0mself\u001b[0m\u001b[0;34m,\u001b[0m \u001b[0mfunc\u001b[0m\u001b[0;34m,\u001b[0m \u001b[0mcallback\u001b[0m\u001b[0;34m=\u001b[0m\u001b[0;32mNone\u001b[0m\u001b[0;34m)\u001b[0m\u001b[0;34m:\u001b[0m\u001b[0;34m\u001b[0m\u001b[0m\n\u001b[1;32m    205\u001b[0m         \u001b[0;34m\"\"\"Schedule a func to be run\"\"\"\u001b[0m\u001b[0;34m\u001b[0m\u001b[0m\n\u001b[0;32m--> 206\u001b[0;31m         \u001b[0mresult\u001b[0m \u001b[0;34m=\u001b[0m \u001b[0mImmediateResult\u001b[0m\u001b[0;34m(\u001b[0m\u001b[0mfunc\u001b[0m\u001b[0;34m)\u001b[0m\u001b[0;34m\u001b[0m\u001b[0m\n\u001b[0m\u001b[1;32m    207\u001b[0m         \u001b[0;32mif\u001b[0m \u001b[0mcallback\u001b[0m\u001b[0;34m:\u001b[0m\u001b[0;34m\u001b[0m\u001b[0m\n\u001b[1;32m    208\u001b[0m             \u001b[0mcallback\u001b[0m\u001b[0;34m(\u001b[0m\u001b[0mresult\u001b[0m\u001b[0;34m)\u001b[0m\u001b[0;34m\u001b[0m\u001b[0m\n",
      "\u001b[0;32m~/anaconda3/lib/python3.6/site-packages/joblib/_parallel_backends.py\u001b[0m in \u001b[0;36m__init__\u001b[0;34m(self, batch)\u001b[0m\n\u001b[1;32m    568\u001b[0m         \u001b[0;31m# Don't delay the application, to avoid keeping the input\u001b[0m\u001b[0;34m\u001b[0m\u001b[0;34m\u001b[0m\u001b[0m\n\u001b[1;32m    569\u001b[0m         \u001b[0;31m# arguments in memory\u001b[0m\u001b[0;34m\u001b[0m\u001b[0;34m\u001b[0m\u001b[0m\n\u001b[0;32m--> 570\u001b[0;31m         \u001b[0mself\u001b[0m\u001b[0;34m.\u001b[0m\u001b[0mresults\u001b[0m \u001b[0;34m=\u001b[0m \u001b[0mbatch\u001b[0m\u001b[0;34m(\u001b[0m\u001b[0;34m)\u001b[0m\u001b[0;34m\u001b[0m\u001b[0m\n\u001b[0m\u001b[1;32m    571\u001b[0m \u001b[0;34m\u001b[0m\u001b[0m\n\u001b[1;32m    572\u001b[0m     \u001b[0;32mdef\u001b[0m \u001b[0mget\u001b[0m\u001b[0;34m(\u001b[0m\u001b[0mself\u001b[0m\u001b[0;34m)\u001b[0m\u001b[0;34m:\u001b[0m\u001b[0;34m\u001b[0m\u001b[0m\n",
      "\u001b[0;32m~/anaconda3/lib/python3.6/site-packages/joblib/parallel.py\u001b[0m in \u001b[0;36m__call__\u001b[0;34m(self)\u001b[0m\n\u001b[1;32m    251\u001b[0m         \u001b[0;32mwith\u001b[0m \u001b[0mparallel_backend\u001b[0m\u001b[0;34m(\u001b[0m\u001b[0mself\u001b[0m\u001b[0;34m.\u001b[0m\u001b[0m_backend\u001b[0m\u001b[0;34m,\u001b[0m \u001b[0mn_jobs\u001b[0m\u001b[0;34m=\u001b[0m\u001b[0mself\u001b[0m\u001b[0;34m.\u001b[0m\u001b[0m_n_jobs\u001b[0m\u001b[0;34m)\u001b[0m\u001b[0;34m:\u001b[0m\u001b[0;34m\u001b[0m\u001b[0m\n\u001b[1;32m    252\u001b[0m             return [func(*args, **kwargs)\n\u001b[0;32m--> 253\u001b[0;31m                     for func, args, kwargs in self.items]\n\u001b[0m\u001b[1;32m    254\u001b[0m \u001b[0;34m\u001b[0m\u001b[0m\n\u001b[1;32m    255\u001b[0m     \u001b[0;32mdef\u001b[0m \u001b[0m__reduce__\u001b[0m\u001b[0;34m(\u001b[0m\u001b[0mself\u001b[0m\u001b[0;34m)\u001b[0m\u001b[0;34m:\u001b[0m\u001b[0;34m\u001b[0m\u001b[0m\n",
      "\u001b[0;32m~/anaconda3/lib/python3.6/site-packages/joblib/parallel.py\u001b[0m in \u001b[0;36m<listcomp>\u001b[0;34m(.0)\u001b[0m\n\u001b[1;32m    251\u001b[0m         \u001b[0;32mwith\u001b[0m \u001b[0mparallel_backend\u001b[0m\u001b[0;34m(\u001b[0m\u001b[0mself\u001b[0m\u001b[0;34m.\u001b[0m\u001b[0m_backend\u001b[0m\u001b[0;34m,\u001b[0m \u001b[0mn_jobs\u001b[0m\u001b[0;34m=\u001b[0m\u001b[0mself\u001b[0m\u001b[0;34m.\u001b[0m\u001b[0m_n_jobs\u001b[0m\u001b[0;34m)\u001b[0m\u001b[0;34m:\u001b[0m\u001b[0;34m\u001b[0m\u001b[0m\n\u001b[1;32m    252\u001b[0m             return [func(*args, **kwargs)\n\u001b[0;32m--> 253\u001b[0;31m                     for func, args, kwargs in self.items]\n\u001b[0m\u001b[1;32m    254\u001b[0m \u001b[0;34m\u001b[0m\u001b[0m\n\u001b[1;32m    255\u001b[0m     \u001b[0;32mdef\u001b[0m \u001b[0m__reduce__\u001b[0m\u001b[0;34m(\u001b[0m\u001b[0mself\u001b[0m\u001b[0;34m)\u001b[0m\u001b[0;34m:\u001b[0m\u001b[0;34m\u001b[0m\u001b[0m\n",
      "\u001b[0;32m~/anaconda3/lib/python3.6/site-packages/sklearn/model_selection/_validation.py\u001b[0m in \u001b[0;36m_fit_and_score\u001b[0;34m(estimator, X, y, scorer, train, test, verbose, parameters, fit_params, return_train_score, return_parameters, return_n_test_samples, return_times, return_estimator, error_score)\u001b[0m\n\u001b[1;32m    529\u001b[0m             \u001b[0mestimator\u001b[0m\u001b[0;34m.\u001b[0m\u001b[0mfit\u001b[0m\u001b[0;34m(\u001b[0m\u001b[0mX_train\u001b[0m\u001b[0;34m,\u001b[0m \u001b[0;34m**\u001b[0m\u001b[0mfit_params\u001b[0m\u001b[0;34m)\u001b[0m\u001b[0;34m\u001b[0m\u001b[0m\n\u001b[1;32m    530\u001b[0m         \u001b[0;32melse\u001b[0m\u001b[0;34m:\u001b[0m\u001b[0;34m\u001b[0m\u001b[0m\n\u001b[0;32m--> 531\u001b[0;31m             \u001b[0mestimator\u001b[0m\u001b[0;34m.\u001b[0m\u001b[0mfit\u001b[0m\u001b[0;34m(\u001b[0m\u001b[0mX_train\u001b[0m\u001b[0;34m,\u001b[0m \u001b[0my_train\u001b[0m\u001b[0;34m,\u001b[0m \u001b[0;34m**\u001b[0m\u001b[0mfit_params\u001b[0m\u001b[0;34m)\u001b[0m\u001b[0;34m\u001b[0m\u001b[0m\n\u001b[0m\u001b[1;32m    532\u001b[0m \u001b[0;34m\u001b[0m\u001b[0m\n\u001b[1;32m    533\u001b[0m     \u001b[0;32mexcept\u001b[0m \u001b[0mException\u001b[0m \u001b[0;32mas\u001b[0m \u001b[0me\u001b[0m\u001b[0;34m:\u001b[0m\u001b[0;34m\u001b[0m\u001b[0m\n",
      "\u001b[0;32m~/anaconda3/lib/python3.6/site-packages/sklearn/pipeline.py\u001b[0m in \u001b[0;36mfit\u001b[0;34m(self, X, y, **fit_params)\u001b[0m\n\u001b[1;32m    333\u001b[0m             \u001b[0;32mif\u001b[0m \u001b[0mself\u001b[0m\u001b[0;34m.\u001b[0m\u001b[0m_final_estimator\u001b[0m \u001b[0;34m!=\u001b[0m \u001b[0;34m'passthrough'\u001b[0m\u001b[0;34m:\u001b[0m\u001b[0;34m\u001b[0m\u001b[0m\n\u001b[1;32m    334\u001b[0m                 \u001b[0mfit_params_last_step\u001b[0m \u001b[0;34m=\u001b[0m \u001b[0mfit_params_steps\u001b[0m\u001b[0;34m[\u001b[0m\u001b[0mself\u001b[0m\u001b[0;34m.\u001b[0m\u001b[0msteps\u001b[0m\u001b[0;34m[\u001b[0m\u001b[0;34m-\u001b[0m\u001b[0;36m1\u001b[0m\u001b[0;34m]\u001b[0m\u001b[0;34m[\u001b[0m\u001b[0;36m0\u001b[0m\u001b[0;34m]\u001b[0m\u001b[0;34m]\u001b[0m\u001b[0;34m\u001b[0m\u001b[0m\n\u001b[0;32m--> 335\u001b[0;31m                 \u001b[0mself\u001b[0m\u001b[0;34m.\u001b[0m\u001b[0m_final_estimator\u001b[0m\u001b[0;34m.\u001b[0m\u001b[0mfit\u001b[0m\u001b[0;34m(\u001b[0m\u001b[0mXt\u001b[0m\u001b[0;34m,\u001b[0m \u001b[0my\u001b[0m\u001b[0;34m,\u001b[0m \u001b[0;34m**\u001b[0m\u001b[0mfit_params_last_step\u001b[0m\u001b[0;34m)\u001b[0m\u001b[0;34m\u001b[0m\u001b[0m\n\u001b[0m\u001b[1;32m    336\u001b[0m \u001b[0;34m\u001b[0m\u001b[0m\n\u001b[1;32m    337\u001b[0m         \u001b[0;32mreturn\u001b[0m \u001b[0mself\u001b[0m\u001b[0;34m\u001b[0m\u001b[0m\n",
      "\u001b[0;32m~/anaconda3/lib/python3.6/site-packages/sklearn/ensemble/_gb.py\u001b[0m in \u001b[0;36mfit\u001b[0;34m(self, X, y, sample_weight, monitor)\u001b[0m\n\u001b[1;32m    498\u001b[0m         n_stages = self._fit_stages(\n\u001b[1;32m    499\u001b[0m             \u001b[0mX\u001b[0m\u001b[0;34m,\u001b[0m \u001b[0my\u001b[0m\u001b[0;34m,\u001b[0m \u001b[0mraw_predictions\u001b[0m\u001b[0;34m,\u001b[0m \u001b[0msample_weight\u001b[0m\u001b[0;34m,\u001b[0m \u001b[0mself\u001b[0m\u001b[0;34m.\u001b[0m\u001b[0m_rng\u001b[0m\u001b[0;34m,\u001b[0m \u001b[0mX_val\u001b[0m\u001b[0;34m,\u001b[0m \u001b[0my_val\u001b[0m\u001b[0;34m,\u001b[0m\u001b[0;34m\u001b[0m\u001b[0m\n\u001b[0;32m--> 500\u001b[0;31m             sample_weight_val, begin_at_stage, monitor, X_idx_sorted)\n\u001b[0m\u001b[1;32m    501\u001b[0m \u001b[0;34m\u001b[0m\u001b[0m\n\u001b[1;32m    502\u001b[0m         \u001b[0;31m# change shape of arrays after fit (early-stopping or additional ests)\u001b[0m\u001b[0;34m\u001b[0m\u001b[0;34m\u001b[0m\u001b[0m\n",
      "\u001b[0;32m~/anaconda3/lib/python3.6/site-packages/sklearn/ensemble/_gb.py\u001b[0m in \u001b[0;36m_fit_stages\u001b[0;34m(self, X, y, raw_predictions, sample_weight, random_state, X_val, y_val, sample_weight_val, begin_at_stage, monitor, X_idx_sorted)\u001b[0m\n\u001b[1;32m    555\u001b[0m             raw_predictions = self._fit_stage(\n\u001b[1;32m    556\u001b[0m                 \u001b[0mi\u001b[0m\u001b[0;34m,\u001b[0m \u001b[0mX\u001b[0m\u001b[0;34m,\u001b[0m \u001b[0my\u001b[0m\u001b[0;34m,\u001b[0m \u001b[0mraw_predictions\u001b[0m\u001b[0;34m,\u001b[0m \u001b[0msample_weight\u001b[0m\u001b[0;34m,\u001b[0m \u001b[0msample_mask\u001b[0m\u001b[0;34m,\u001b[0m\u001b[0;34m\u001b[0m\u001b[0m\n\u001b[0;32m--> 557\u001b[0;31m                 random_state, X_idx_sorted, X_csc, X_csr)\n\u001b[0m\u001b[1;32m    558\u001b[0m \u001b[0;34m\u001b[0m\u001b[0m\n\u001b[1;32m    559\u001b[0m             \u001b[0;31m# track deviance (= loss)\u001b[0m\u001b[0;34m\u001b[0m\u001b[0;34m\u001b[0m\u001b[0m\n",
      "\u001b[0;32m~/anaconda3/lib/python3.6/site-packages/sklearn/ensemble/_gb.py\u001b[0m in \u001b[0;36m_fit_stage\u001b[0;34m(self, i, X, y, raw_predictions, sample_weight, sample_mask, random_state, X_idx_sorted, X_csc, X_csr)\u001b[0m\n\u001b[1;32m    210\u001b[0m             \u001b[0mX\u001b[0m \u001b[0;34m=\u001b[0m \u001b[0mX_csr\u001b[0m \u001b[0;32mif\u001b[0m \u001b[0mX_csr\u001b[0m \u001b[0;32mis\u001b[0m \u001b[0;32mnot\u001b[0m \u001b[0;32mNone\u001b[0m \u001b[0;32melse\u001b[0m \u001b[0mX\u001b[0m\u001b[0;34m\u001b[0m\u001b[0m\n\u001b[1;32m    211\u001b[0m             tree.fit(X, residual, sample_weight=sample_weight,\n\u001b[0;32m--> 212\u001b[0;31m                      check_input=False, X_idx_sorted=X_idx_sorted)\n\u001b[0m\u001b[1;32m    213\u001b[0m \u001b[0;34m\u001b[0m\u001b[0m\n\u001b[1;32m    214\u001b[0m             \u001b[0;31m# update tree leaves\u001b[0m\u001b[0;34m\u001b[0m\u001b[0;34m\u001b[0m\u001b[0m\n",
      "\u001b[0;32m~/anaconda3/lib/python3.6/site-packages/sklearn/tree/_classes.py\u001b[0m in \u001b[0;36mfit\u001b[0;34m(self, X, y, sample_weight, check_input, X_idx_sorted)\u001b[0m\n\u001b[1;32m   1244\u001b[0m             \u001b[0msample_weight\u001b[0m\u001b[0;34m=\u001b[0m\u001b[0msample_weight\u001b[0m\u001b[0;34m,\u001b[0m\u001b[0;34m\u001b[0m\u001b[0m\n\u001b[1;32m   1245\u001b[0m             \u001b[0mcheck_input\u001b[0m\u001b[0;34m=\u001b[0m\u001b[0mcheck_input\u001b[0m\u001b[0;34m,\u001b[0m\u001b[0;34m\u001b[0m\u001b[0m\n\u001b[0;32m-> 1246\u001b[0;31m             X_idx_sorted=X_idx_sorted)\n\u001b[0m\u001b[1;32m   1247\u001b[0m         \u001b[0;32mreturn\u001b[0m \u001b[0mself\u001b[0m\u001b[0;34m\u001b[0m\u001b[0m\n\u001b[1;32m   1248\u001b[0m \u001b[0;34m\u001b[0m\u001b[0m\n",
      "\u001b[0;32m~/anaconda3/lib/python3.6/site-packages/sklearn/tree/_classes.py\u001b[0m in \u001b[0;36mfit\u001b[0;34m(self, X, y, sample_weight, check_input, X_idx_sorted)\u001b[0m\n\u001b[1;32m    373\u001b[0m                                            min_impurity_split)\n\u001b[1;32m    374\u001b[0m \u001b[0;34m\u001b[0m\u001b[0m\n\u001b[0;32m--> 375\u001b[0;31m         \u001b[0mbuilder\u001b[0m\u001b[0;34m.\u001b[0m\u001b[0mbuild\u001b[0m\u001b[0;34m(\u001b[0m\u001b[0mself\u001b[0m\u001b[0;34m.\u001b[0m\u001b[0mtree_\u001b[0m\u001b[0;34m,\u001b[0m \u001b[0mX\u001b[0m\u001b[0;34m,\u001b[0m \u001b[0my\u001b[0m\u001b[0;34m,\u001b[0m \u001b[0msample_weight\u001b[0m\u001b[0;34m,\u001b[0m \u001b[0mX_idx_sorted\u001b[0m\u001b[0;34m)\u001b[0m\u001b[0;34m\u001b[0m\u001b[0m\n\u001b[0m\u001b[1;32m    376\u001b[0m \u001b[0;34m\u001b[0m\u001b[0m\n\u001b[1;32m    377\u001b[0m         \u001b[0;32mif\u001b[0m \u001b[0mself\u001b[0m\u001b[0;34m.\u001b[0m\u001b[0mn_outputs_\u001b[0m \u001b[0;34m==\u001b[0m \u001b[0;36m1\u001b[0m \u001b[0;32mand\u001b[0m \u001b[0mis_classifier\u001b[0m\u001b[0;34m(\u001b[0m\u001b[0mself\u001b[0m\u001b[0;34m)\u001b[0m\u001b[0;34m:\u001b[0m\u001b[0;34m\u001b[0m\u001b[0m\n",
      "\u001b[0;31mKeyboardInterrupt\u001b[0m: "
     ]
    }
   ],
   "source": [
    "scores = cross_val_score(clf, X, y, cv=5)"
   ]
  },
  {
   "cell_type": "code",
   "execution_count": null,
   "metadata": {},
   "outputs": [],
   "source": [
    "scores"
   ]
  },
  {
   "cell_type": "code",
   "execution_count": null,
   "metadata": {},
   "outputs": [],
   "source": []
  },
  {
   "cell_type": "code",
   "execution_count": null,
   "metadata": {},
   "outputs": [],
   "source": []
  },
  {
   "cell_type": "code",
   "execution_count": null,
   "metadata": {},
   "outputs": [],
   "source": []
  },
  {
   "cell_type": "code",
   "execution_count": null,
   "metadata": {},
   "outputs": [],
   "source": []
  },
  {
   "cell_type": "code",
   "execution_count": 203,
   "metadata": {},
   "outputs": [],
   "source": [
    "test_data = pd.read_csv('test_VsU9xXK.csv')"
   ]
  },
  {
   "cell_type": "code",
   "execution_count": 204,
   "metadata": {},
   "outputs": [
    {
     "data": {
      "text/plain": [
       "Trip_ID                            0\n",
       "Trip_Distance                      0\n",
       "Type_of_Cab                    13158\n",
       "Customer_Since_Months           3966\n",
       "Life_Style_Index               13327\n",
       "Confidence_Life_Style_Index    13327\n",
       "Destination_Type                   0\n",
       "Customer_Rating                    0\n",
       "Cancellation_Last_1Month           0\n",
       "Var1                           46789\n",
       "Var2                               0\n",
       "Var3                               0\n",
       "Gender                             0\n",
       "dtype: int64"
      ]
     },
     "execution_count": 204,
     "metadata": {},
     "output_type": "execute_result"
    }
   ],
   "source": [
    "test_data.isnull().sum()"
   ]
  },
  {
   "cell_type": "code",
   "execution_count": 205,
   "metadata": {},
   "outputs": [
    {
     "name": "stderr",
     "output_type": "stream",
     "text": [
      "/home/vignesh/anaconda3/lib/python3.6/site-packages/ipykernel_launcher.py:5: SettingWithCopyWarning: \n",
      "A value is trying to be set on a copy of a slice from a DataFrame.\n",
      "Try using .loc[row_indexer,col_indexer] = value instead\n",
      "\n",
      "See the caveats in the documentation: http://pandas.pydata.org/pandas-docs/stable/indexing.html#indexing-view-versus-copy\n",
      "  \"\"\"\n"
     ]
    }
   ],
   "source": [
    "test_data_life_style_non_missing = test_data[~test_data.Life_Style_Index.isna()]\n",
    "test_data_life_style_missing = test_data[test_data.Life_Style_Index.isna()]\n",
    "\n",
    "test_data_life_style_missing_x = test_data_life_style_missing[['Trip_Distance', 'Var2', 'Var3']]\n",
    "test_data_life_style_missing['Life_Style_Index'] = linear_model.predict(test_data_life_style_missing_x)\n",
    "\n",
    "test_data = test_data_life_style_non_missing.append(test_data_life_style_missing)"
   ]
  },
  {
   "cell_type": "code",
   "execution_count": 206,
   "metadata": {},
   "outputs": [],
   "source": [
    "test_data['Type_of_Cab'] = test_data['Type_of_Cab'].apply(cab_to_float)"
   ]
  },
  {
   "cell_type": "code",
   "execution_count": 207,
   "metadata": {},
   "outputs": [
    {
     "name": "stderr",
     "output_type": "stream",
     "text": [
      "/home/vignesh/anaconda3/lib/python3.6/site-packages/ipykernel_launcher.py:5: SettingWithCopyWarning: \n",
      "A value is trying to be set on a copy of a slice from a DataFrame.\n",
      "Try using .loc[row_indexer,col_indexer] = value instead\n",
      "\n",
      "See the caveats in the documentation: http://pandas.pydata.org/pandas-docs/stable/indexing.html#indexing-view-versus-copy\n",
      "  \"\"\"\n"
     ]
    }
   ],
   "source": [
    "test_data_type_of_cab_non_missing = test_data[~test_data.Type_of_Cab.isna()]\n",
    "test_data_type_of_cab_missing = test_data[test_data.Type_of_Cab.isna()]\n",
    "\n",
    "test_data_type_of_cab_missing_x = test_data_type_of_cab_missing[['Trip_Distance', 'Life_Style_Index', 'Var2', 'Var3']]\n",
    "test_data_type_of_cab_missing['Type_of_Cab'] = logistic_model_cab_missing.predict(test_data_type_of_cab_missing_x)"
   ]
  },
  {
   "cell_type": "code",
   "execution_count": 208,
   "metadata": {},
   "outputs": [],
   "source": [
    "test_data = test_data_type_of_cab_non_missing.append(test_data_type_of_cab_missing)"
   ]
  },
  {
   "cell_type": "code",
   "execution_count": 209,
   "metadata": {},
   "outputs": [],
   "source": [
    "test_data['Type_of_Cab'] = test_data['Type_of_Cab'].apply(float_to_cab)"
   ]
  },
  {
   "cell_type": "code",
   "execution_count": 181,
   "metadata": {},
   "outputs": [],
   "source": [
    "test_data['Life_Style_Index'] = test_data.Life_Style_Index.apply(lifestyle_index)"
   ]
  },
  {
   "cell_type": "code",
   "execution_count": 231,
   "metadata": {},
   "outputs": [
    {
     "data": {
      "text/html": [
       "<div>\n",
       "<style scoped>\n",
       "    .dataframe tbody tr th:only-of-type {\n",
       "        vertical-align: middle;\n",
       "    }\n",
       "\n",
       "    .dataframe tbody tr th {\n",
       "        vertical-align: top;\n",
       "    }\n",
       "\n",
       "    .dataframe thead th {\n",
       "        text-align: right;\n",
       "    }\n",
       "</style>\n",
       "<table border=\"1\" class=\"dataframe\">\n",
       "  <thead>\n",
       "    <tr style=\"text-align: right;\">\n",
       "      <th></th>\n",
       "      <th>Trip_Distance</th>\n",
       "      <th>Type_of_Cab</th>\n",
       "      <th>Customer_Since_Months</th>\n",
       "      <th>Life_Style_Index</th>\n",
       "      <th>Destination_Type</th>\n",
       "      <th>Customer_Rating</th>\n",
       "      <th>Cancellation_Last_1Month</th>\n",
       "      <th>Var2</th>\n",
       "      <th>Var3</th>\n",
       "      <th>Gender</th>\n",
       "    </tr>\n",
       "  </thead>\n",
       "  <tbody>\n",
       "    <tr>\n",
       "      <th>11</th>\n",
       "      <td>90.93</td>\n",
       "      <td>E</td>\n",
       "      <td>0.0</td>\n",
       "      <td>2.95327</td>\n",
       "      <td>C</td>\n",
       "      <td>2.93500</td>\n",
       "      <td>1</td>\n",
       "      <td>46</td>\n",
       "      <td>63</td>\n",
       "      <td>Male</td>\n",
       "    </tr>\n",
       "    <tr>\n",
       "      <th>15</th>\n",
       "      <td>14.18</td>\n",
       "      <td>A</td>\n",
       "      <td>1.0</td>\n",
       "      <td>2.16167</td>\n",
       "      <td>A</td>\n",
       "      <td>3.19750</td>\n",
       "      <td>1</td>\n",
       "      <td>46</td>\n",
       "      <td>57</td>\n",
       "      <td>Female</td>\n",
       "    </tr>\n",
       "    <tr>\n",
       "      <th>28</th>\n",
       "      <td>31.82</td>\n",
       "      <td>C</td>\n",
       "      <td>10.0</td>\n",
       "      <td>2.70044</td>\n",
       "      <td>B</td>\n",
       "      <td>3.15125</td>\n",
       "      <td>1</td>\n",
       "      <td>51</td>\n",
       "      <td>66</td>\n",
       "      <td>Male</td>\n",
       "    </tr>\n",
       "    <tr>\n",
       "      <th>32</th>\n",
       "      <td>18.34</td>\n",
       "      <td>C</td>\n",
       "      <td>4.0</td>\n",
       "      <td>2.59621</td>\n",
       "      <td>B</td>\n",
       "      <td>3.15875</td>\n",
       "      <td>0</td>\n",
       "      <td>53</td>\n",
       "      <td>72</td>\n",
       "      <td>Male</td>\n",
       "    </tr>\n",
       "    <tr>\n",
       "      <th>34</th>\n",
       "      <td>30.93</td>\n",
       "      <td>B</td>\n",
       "      <td>6.0</td>\n",
       "      <td>2.65609</td>\n",
       "      <td>B</td>\n",
       "      <td>2.55625</td>\n",
       "      <td>0</td>\n",
       "      <td>51</td>\n",
       "      <td>83</td>\n",
       "      <td>Male</td>\n",
       "    </tr>\n",
       "    <tr>\n",
       "      <th>40</th>\n",
       "      <td>78.25</td>\n",
       "      <td>C</td>\n",
       "      <td>8.0</td>\n",
       "      <td>2.77190</td>\n",
       "      <td>A</td>\n",
       "      <td>1.08875</td>\n",
       "      <td>0</td>\n",
       "      <td>48</td>\n",
       "      <td>76</td>\n",
       "      <td>Female</td>\n",
       "    </tr>\n",
       "    <tr>\n",
       "      <th>50</th>\n",
       "      <td>36.76</td>\n",
       "      <td>B</td>\n",
       "      <td>5.0</td>\n",
       "      <td>2.64466</td>\n",
       "      <td>A</td>\n",
       "      <td>2.46375</td>\n",
       "      <td>0</td>\n",
       "      <td>49</td>\n",
       "      <td>68</td>\n",
       "      <td>Male</td>\n",
       "    </tr>\n",
       "    <tr>\n",
       "      <th>56</th>\n",
       "      <td>43.17</td>\n",
       "      <td>E</td>\n",
       "      <td>9.0</td>\n",
       "      <td>2.55422</td>\n",
       "      <td>A</td>\n",
       "      <td>1.64125</td>\n",
       "      <td>3</td>\n",
       "      <td>55</td>\n",
       "      <td>72</td>\n",
       "      <td>Male</td>\n",
       "    </tr>\n",
       "    <tr>\n",
       "      <th>62</th>\n",
       "      <td>32.14</td>\n",
       "      <td>B</td>\n",
       "      <td>10.0</td>\n",
       "      <td>2.48150</td>\n",
       "      <td>A</td>\n",
       "      <td>2.32500</td>\n",
       "      <td>1</td>\n",
       "      <td>51</td>\n",
       "      <td>68</td>\n",
       "      <td>Female</td>\n",
       "    </tr>\n",
       "    <tr>\n",
       "      <th>76</th>\n",
       "      <td>8.22</td>\n",
       "      <td>B</td>\n",
       "      <td>10.0</td>\n",
       "      <td>2.90889</td>\n",
       "      <td>A</td>\n",
       "      <td>1.63750</td>\n",
       "      <td>2</td>\n",
       "      <td>54</td>\n",
       "      <td>89</td>\n",
       "      <td>Male</td>\n",
       "    </tr>\n",
       "  </tbody>\n",
       "</table>\n",
       "</div>"
      ],
      "text/plain": [
       "    Trip_Distance Type_of_Cab  Customer_Since_Months  Life_Style_Index  \\\n",
       "11          90.93           E                    0.0           2.95327   \n",
       "15          14.18           A                    1.0           2.16167   \n",
       "28          31.82           C                   10.0           2.70044   \n",
       "32          18.34           C                    4.0           2.59621   \n",
       "34          30.93           B                    6.0           2.65609   \n",
       "40          78.25           C                    8.0           2.77190   \n",
       "50          36.76           B                    5.0           2.64466   \n",
       "56          43.17           E                    9.0           2.55422   \n",
       "62          32.14           B                   10.0           2.48150   \n",
       "76           8.22           B                   10.0           2.90889   \n",
       "\n",
       "   Destination_Type  Customer_Rating  Cancellation_Last_1Month  Var2  Var3  \\\n",
       "11                C          2.93500                         1    46    63   \n",
       "15                A          3.19750                         1    46    57   \n",
       "28                B          3.15125                         1    51    66   \n",
       "32                B          3.15875                         0    53    72   \n",
       "34                B          2.55625                         0    51    83   \n",
       "40                A          1.08875                         0    48    76   \n",
       "50                A          2.46375                         0    49    68   \n",
       "56                A          1.64125                         3    55    72   \n",
       "62                A          2.32500                         1    51    68   \n",
       "76                A          1.63750                         2    54    89   \n",
       "\n",
       "    Gender  \n",
       "11    Male  \n",
       "15  Female  \n",
       "28    Male  \n",
       "32    Male  \n",
       "34    Male  \n",
       "40  Female  \n",
       "50    Male  \n",
       "56    Male  \n",
       "62  Female  \n",
       "76    Male  "
      ]
     },
     "execution_count": 231,
     "metadata": {},
     "output_type": "execute_result"
    }
   ],
   "source": [
    "\n",
    "X[0:10]"
   ]
  },
  {
   "cell_type": "code",
   "execution_count": 99,
   "metadata": {},
   "outputs": [],
   "source": [
    "test_no_ml = clf_no_ml.transform(test_data.drop([ 'Confidence_Life_Style_Index','Trip_ID', 'Var1'], axis=1))\n",
    "test_lg = lgb.Dataset(test_no_ml)\n",
    "pred_output = lgb_train_model.predict(test_no_ml, raw_score=False)"
   ]
  },
  {
   "cell_type": "code",
   "execution_count": 101,
   "metadata": {},
   "outputs": [],
   "source": [
    "output = []\n",
    "for i in pred_output:\n",
    "    output.append(np.argmin(i)+1)\n",
    "    "
   ]
  },
  {
   "cell_type": "code",
   "execution_count": 104,
   "metadata": {},
   "outputs": [],
   "source": [
    "test_data['Surge_Pricing_Type'] = output"
   ]
  },
  {
   "cell_type": "code",
   "execution_count": 103,
   "metadata": {},
   "outputs": [
    {
     "data": {
      "text/plain": [
       "Surge_Pricing_Type\n",
       "1    70688\n",
       "2     6076\n",
       "3    10631\n",
       "dtype: int64"
      ]
     },
     "execution_count": 103,
     "metadata": {},
     "output_type": "execute_result"
    }
   ],
   "source": [
    "test_data.groupby(['Surge_Pricing_Type']).size()"
   ]
  },
  {
   "cell_type": "code",
   "execution_count": 449,
   "metadata": {},
   "outputs": [],
   "source": [
    "# test_data['Customer_Rating'] = test_data.Customer_Rating.apply(custom_rating_index)\n",
    "# test_data['Life_Style_Index'] = test_data.Life_Style_Index.apply(lifestyle_index)"
   ]
  },
  {
   "cell_type": "code",
   "execution_count": 232,
   "metadata": {},
   "outputs": [],
   "source": [
    "test_data['Surge_Pricing_Type'] = clf.predict(test_data.drop([ 'Confidence_Life_Style_Index','Trip_ID', 'Var1'], axis=1))"
   ]
  },
  {
   "cell_type": "code",
   "execution_count": 233,
   "metadata": {},
   "outputs": [],
   "source": [
    "test_data[['Trip_ID', 'Surge_Pricing_Type']].to_csv('output.csv', header=1, index=False)"
   ]
  },
  {
   "cell_type": "code",
   "execution_count": 452,
   "metadata": {},
   "outputs": [
    {
     "data": {
      "text/html": [
       "<div>\n",
       "<style scoped>\n",
       "    .dataframe tbody tr th:only-of-type {\n",
       "        vertical-align: middle;\n",
       "    }\n",
       "\n",
       "    .dataframe tbody tr th {\n",
       "        vertical-align: top;\n",
       "    }\n",
       "\n",
       "    .dataframe thead th {\n",
       "        text-align: right;\n",
       "    }\n",
       "</style>\n",
       "<table border=\"1\" class=\"dataframe\">\n",
       "  <thead>\n",
       "    <tr style=\"text-align: right;\">\n",
       "      <th></th>\n",
       "      <th>Trip_ID</th>\n",
       "      <th>Trip_Distance</th>\n",
       "      <th>Type_of_Cab</th>\n",
       "      <th>Customer_Since_Months</th>\n",
       "      <th>Life_Style_Index</th>\n",
       "      <th>Confidence_Life_Style_Index</th>\n",
       "      <th>Destination_Type</th>\n",
       "      <th>Customer_Rating</th>\n",
       "      <th>Cancellation_Last_1Month</th>\n",
       "      <th>Var1</th>\n",
       "      <th>Var2</th>\n",
       "      <th>Var3</th>\n",
       "      <th>Gender</th>\n",
       "      <th>Surge_Pricing_Type</th>\n",
       "    </tr>\n",
       "  </thead>\n",
       "  <tbody>\n",
       "    <tr>\n",
       "      <th>0</th>\n",
       "      <td>T0005689459</td>\n",
       "      <td>9.44</td>\n",
       "      <td>A</td>\n",
       "      <td>10.0</td>\n",
       "      <td>2.57438</td>\n",
       "      <td>A</td>\n",
       "      <td>B</td>\n",
       "      <td>3.68000</td>\n",
       "      <td>2</td>\n",
       "      <td>NaN</td>\n",
       "      <td>46</td>\n",
       "      <td>63</td>\n",
       "      <td>Male</td>\n",
       "      <td>1</td>\n",
       "    </tr>\n",
       "    <tr>\n",
       "      <th>1</th>\n",
       "      <td>T0005689462</td>\n",
       "      <td>32.15</td>\n",
       "      <td>B</td>\n",
       "      <td>10.0</td>\n",
       "      <td>2.85143</td>\n",
       "      <td>A</td>\n",
       "      <td>A</td>\n",
       "      <td>1.59375</td>\n",
       "      <td>0</td>\n",
       "      <td>65.0</td>\n",
       "      <td>49</td>\n",
       "      <td>80</td>\n",
       "      <td>Female</td>\n",
       "      <td>2</td>\n",
       "    </tr>\n",
       "    <tr>\n",
       "      <th>2</th>\n",
       "      <td>T0005689463</td>\n",
       "      <td>10.38</td>\n",
       "      <td>C</td>\n",
       "      <td>4.0</td>\n",
       "      <td>2.70530</td>\n",
       "      <td>A</td>\n",
       "      <td>D</td>\n",
       "      <td>4.50500</td>\n",
       "      <td>0</td>\n",
       "      <td>NaN</td>\n",
       "      <td>47</td>\n",
       "      <td>74</td>\n",
       "      <td>Male</td>\n",
       "      <td>2</td>\n",
       "    </tr>\n",
       "    <tr>\n",
       "      <th>4</th>\n",
       "      <td>T0005689468</td>\n",
       "      <td>32.03</td>\n",
       "      <td>B</td>\n",
       "      <td>7.0</td>\n",
       "      <td>2.81598</td>\n",
       "      <td>A</td>\n",
       "      <td>K</td>\n",
       "      <td>4.60125</td>\n",
       "      <td>3</td>\n",
       "      <td>96.0</td>\n",
       "      <td>44</td>\n",
       "      <td>56</td>\n",
       "      <td>Male</td>\n",
       "      <td>2</td>\n",
       "    </tr>\n",
       "    <tr>\n",
       "      <th>6</th>\n",
       "      <td>T0005689476</td>\n",
       "      <td>47.34</td>\n",
       "      <td>E</td>\n",
       "      <td>0.0</td>\n",
       "      <td>2.59558</td>\n",
       "      <td>C</td>\n",
       "      <td>B</td>\n",
       "      <td>0.84125</td>\n",
       "      <td>0</td>\n",
       "      <td>NaN</td>\n",
       "      <td>60</td>\n",
       "      <td>73</td>\n",
       "      <td>Female</td>\n",
       "      <td>3</td>\n",
       "    </tr>\n",
       "    <tr>\n",
       "      <th>7</th>\n",
       "      <td>T0005689478</td>\n",
       "      <td>43.19</td>\n",
       "      <td>B</td>\n",
       "      <td>10.0</td>\n",
       "      <td>2.94979</td>\n",
       "      <td>A</td>\n",
       "      <td>L</td>\n",
       "      <td>3.48750</td>\n",
       "      <td>2</td>\n",
       "      <td>NaN</td>\n",
       "      <td>57</td>\n",
       "      <td>99</td>\n",
       "      <td>Male</td>\n",
       "      <td>2</td>\n",
       "    </tr>\n",
       "    <tr>\n",
       "      <th>8</th>\n",
       "      <td>T0005689480</td>\n",
       "      <td>45.41</td>\n",
       "      <td>C</td>\n",
       "      <td>7.0</td>\n",
       "      <td>2.64639</td>\n",
       "      <td>C</td>\n",
       "      <td>B</td>\n",
       "      <td>2.48125</td>\n",
       "      <td>0</td>\n",
       "      <td>39.0</td>\n",
       "      <td>53</td>\n",
       "      <td>75</td>\n",
       "      <td>Male</td>\n",
       "      <td>2</td>\n",
       "    </tr>\n",
       "    <tr>\n",
       "      <th>9</th>\n",
       "      <td>T0005689481</td>\n",
       "      <td>5.75</td>\n",
       "      <td>E</td>\n",
       "      <td>3.0</td>\n",
       "      <td>2.65139</td>\n",
       "      <td>C</td>\n",
       "      <td>C</td>\n",
       "      <td>3.01500</td>\n",
       "      <td>3</td>\n",
       "      <td>47.0</td>\n",
       "      <td>49</td>\n",
       "      <td>67</td>\n",
       "      <td>Male</td>\n",
       "      <td>3</td>\n",
       "    </tr>\n",
       "    <tr>\n",
       "      <th>10</th>\n",
       "      <td>T0005689483</td>\n",
       "      <td>8.07</td>\n",
       "      <td>C</td>\n",
       "      <td>10.0</td>\n",
       "      <td>2.70893</td>\n",
       "      <td>B</td>\n",
       "      <td>A</td>\n",
       "      <td>3.84625</td>\n",
       "      <td>1</td>\n",
       "      <td>82.0</td>\n",
       "      <td>55</td>\n",
       "      <td>98</td>\n",
       "      <td>Male</td>\n",
       "      <td>2</td>\n",
       "    </tr>\n",
       "    <tr>\n",
       "      <th>11</th>\n",
       "      <td>T0005689488</td>\n",
       "      <td>10.29</td>\n",
       "      <td>D</td>\n",
       "      <td>7.0</td>\n",
       "      <td>2.77186</td>\n",
       "      <td>A</td>\n",
       "      <td>A</td>\n",
       "      <td>3.08000</td>\n",
       "      <td>1</td>\n",
       "      <td>57.0</td>\n",
       "      <td>45</td>\n",
       "      <td>63</td>\n",
       "      <td>Male</td>\n",
       "      <td>3</td>\n",
       "    </tr>\n",
       "  </tbody>\n",
       "</table>\n",
       "</div>"
      ],
      "text/plain": [
       "        Trip_ID  Trip_Distance Type_of_Cab  Customer_Since_Months  \\\n",
       "0   T0005689459           9.44           A                   10.0   \n",
       "1   T0005689462          32.15           B                   10.0   \n",
       "2   T0005689463          10.38           C                    4.0   \n",
       "4   T0005689468          32.03           B                    7.0   \n",
       "6   T0005689476          47.34           E                    0.0   \n",
       "7   T0005689478          43.19           B                   10.0   \n",
       "8   T0005689480          45.41           C                    7.0   \n",
       "9   T0005689481           5.75           E                    3.0   \n",
       "10  T0005689483           8.07           C                   10.0   \n",
       "11  T0005689488          10.29           D                    7.0   \n",
       "\n",
       "    Life_Style_Index Confidence_Life_Style_Index Destination_Type  \\\n",
       "0            2.57438                           A                B   \n",
       "1            2.85143                           A                A   \n",
       "2            2.70530                           A                D   \n",
       "4            2.81598                           A                K   \n",
       "6            2.59558                           C                B   \n",
       "7            2.94979                           A                L   \n",
       "8            2.64639                           C                B   \n",
       "9            2.65139                           C                C   \n",
       "10           2.70893                           B                A   \n",
       "11           2.77186                           A                A   \n",
       "\n",
       "    Customer_Rating  Cancellation_Last_1Month  Var1  Var2  Var3  Gender  \\\n",
       "0           3.68000                         2   NaN    46    63    Male   \n",
       "1           1.59375                         0  65.0    49    80  Female   \n",
       "2           4.50500                         0   NaN    47    74    Male   \n",
       "4           4.60125                         3  96.0    44    56    Male   \n",
       "6           0.84125                         0   NaN    60    73  Female   \n",
       "7           3.48750                         2   NaN    57    99    Male   \n",
       "8           2.48125                         0  39.0    53    75    Male   \n",
       "9           3.01500                         3  47.0    49    67    Male   \n",
       "10          3.84625                         1  82.0    55    98    Male   \n",
       "11          3.08000                         1  57.0    45    63    Male   \n",
       "\n",
       "    Surge_Pricing_Type  \n",
       "0                    1  \n",
       "1                    2  \n",
       "2                    2  \n",
       "4                    2  \n",
       "6                    3  \n",
       "7                    2  \n",
       "8                    2  \n",
       "9                    3  \n",
       "10                   2  \n",
       "11                   3  "
      ]
     },
     "execution_count": 452,
     "metadata": {},
     "output_type": "execute_result"
    }
   ],
   "source": [
    "test_data[0:10]"
   ]
  },
  {
   "cell_type": "code",
   "execution_count": 114,
   "metadata": {},
   "outputs": [
    {
     "data": {
      "text/plain": [
       "Trip_ID                            0\n",
       "Trip_Distance                      0\n",
       "Type_of_Cab                    13158\n",
       "Customer_Since_Months           3966\n",
       "Life_Style_Index               13327\n",
       "Confidence_Life_Style_Index    13327\n",
       "Destination_Type                   0\n",
       "Customer_Rating                    0\n",
       "Cancellation_Last_1Month           0\n",
       "Var1                           46789\n",
       "Var2                               0\n",
       "Var3                               0\n",
       "Gender                             0\n",
       "Surge_Pricing_Type                 0\n",
       "dtype: int64"
      ]
     },
     "execution_count": 114,
     "metadata": {},
     "output_type": "execute_result"
    }
   ],
   "source": [
    "test_data.isnull().sum()"
   ]
  },
  {
   "cell_type": "code",
   "execution_count": null,
   "metadata": {},
   "outputs": [],
   "source": []
  }
 ],
 "metadata": {
  "kernelspec": {
   "display_name": "Python 3",
   "language": "python",
   "name": "python3"
  },
  "language_info": {
   "codemirror_mode": {
    "name": "ipython",
    "version": 3
   },
   "file_extension": ".py",
   "mimetype": "text/x-python",
   "name": "python",
   "nbconvert_exporter": "python",
   "pygments_lexer": "ipython3",
   "version": "3.6.5"
  }
 },
 "nbformat": 4,
 "nbformat_minor": 2
}
